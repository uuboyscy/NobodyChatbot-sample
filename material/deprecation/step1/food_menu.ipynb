{
 "cells": [
  {
   "cell_type": "code",
   "execution_count": 1,
   "metadata": {},
   "outputs": [
    {
     "data": {
      "text/plain": [
       "'\\n\\n用戶菜單功能介紹\\n\\n    用戶能透過點擊菜單，進行我方希冀之業務功能。\\n    \\n流程\\n    準備菜單的圖面設定檔\\n    讀取安全設定檔上的參數\\n    將菜單設定檔傳給Line\\n    對Line上傳菜單照片\\n    檢視現有的菜單\\n    將菜單與用戶做綁定\\n    將菜單與用戶解除綁定\\n    刪除菜單\\n\\n'"
      ]
     },
     "execution_count": 1,
     "metadata": {},
     "output_type": "execute_result"
    }
   ],
   "source": [
    "'''\n",
    "\n",
    "用戶菜單功能介紹\n",
    "\n",
    "    用戶能透過點擊菜單，進行我方希冀之業務功能。\n",
    "    \n",
    "流程\n",
    "    準備菜單的圖面設定檔\n",
    "    讀取安全設定檔上的參數\n",
    "    將菜單設定檔傳給Line\n",
    "    對Line上傳菜單照片\n",
    "    檢視現有的菜單\n",
    "    將菜單與用戶做綁定\n",
    "    將菜單與用戶解除綁定\n",
    "    刪除菜單\n",
    "\n",
    "'''"
   ]
  },
  {
   "cell_type": "code",
   "execution_count": 1,
   "metadata": {},
   "outputs": [],
   "source": [
    "'''\n",
    "菜單設定檔\n",
    "\n",
    "    設定圖面大小、按鍵名與功能\n",
    "    \n",
    "'''\n",
    "\n",
    "menuRawData=\"\"\"\n",
    "{\n",
    "  \"size\": {\n",
    "    \"width\": 2500,\n",
    "    \"height\": 1686\n",
    "  },\n",
    "  \"selected\": true,\n",
    "  \"name\": \"foodMenu\",\n",
    "  \"chatBarText\": \"查看更多資訊\",\n",
    "  \"areas\": [\n",
    "    {\n",
    "      \"bounds\": {\n",
    "        \"x\": 32,\n",
    "        \"y\": 369,\n",
    "        \"width\": 1198,\n",
    "        \"height\": 461\n",
    "      },\n",
    "      \"action\": {\n",
    "        \"type\": \"message\",\n",
    "        \"text\": \"[::text:]本次交易\"\n",
    "      }\n",
    "    },\n",
    "    {\n",
    "      \"bounds\": {\n",
    "        \"x\": 1248,\n",
    "        \"y\": 369,\n",
    "        \"width\": 1167,\n",
    "        \"height\": 449\n",
    "      },\n",
    "      \"action\": {\n",
    "        \"type\": \"message\",\n",
    "        \"text\": \"[::text:]歷史交易\"\n",
    "      }\n",
    "    },\n",
    "    {\n",
    "      \"bounds\": {\n",
    "        \"x\": 49,\n",
    "        \"y\": 866,\n",
    "        \"width\": 1192,\n",
    "        \"height\": 462\n",
    "      },\n",
    "      \"action\": {\n",
    "        \"type\": \"message\",\n",
    "        \"text\": \"[::flex:]促銷食材\"\n",
    "      }\n",
    "    },\n",
    "    {\n",
    "      \"bounds\": {\n",
    "        \"x\": 1247,\n",
    "        \"y\": 866,\n",
    "        \"width\": 1185,\n",
    "        \"height\": 456\n",
    "      },\n",
    "      \"action\": {\n",
    "        \"type\": \"uri\",\n",
    "        \"uri\": \"https://image.slidesharecdn.com/chinesehistory-cv-caocao-140730210730-phpapp01/95/-1-638.jpg?cb=1458796316\"\n",
    "      }\n",
    "    }\n",
    "  ]\n",
    "}\n",
    "\"\"\""
   ]
  },
  {
   "cell_type": "code",
   "execution_count": 2,
   "metadata": {},
   "outputs": [
    {
     "name": "stdout",
     "output_type": "stream",
     "text": [
      "p8HLmCcB+KSzk93/zxumyxGec/9Ue022dj7noPluNs3jFVSdDLWP6N8njU+VpF9YL8IRtN/3YaxjcXkZJMBSbqt82yGSJjD885hForRc7zARCacpByMLI2DDEHS0zO2AiKYh78NhhoDlVRVcIh5dmwdB04t89/1O/w1cDnyilFU=\n",
      "2d6a6914319f6af6dcd6a408e9f2c95d\n",
      "U7173dc299af6ac3fe7697a75c2a280ad\n"
     ]
    }
   ],
   "source": [
    "'''\n",
    "\n",
    "讀取安全檔案內的字串，以供後續程式碼調用\n",
    "\n",
    "'''\n",
    "import json\n",
    "secretFileContentJson=json.load(open(\"../line_secret_key\",'r'))\n",
    "\n",
    "print(secretFileContentJson.get(\"channel_access_token\"))\n",
    "print(secretFileContentJson.get(\"secret_key\"))\n",
    "print(secretFileContentJson.get(\"self_user_id\"))\n"
   ]
  },
  {
   "cell_type": "code",
   "execution_count": 3,
   "metadata": {},
   "outputs": [
    {
     "name": "stdout",
     "output_type": "stream",
     "text": [
      "<Response [200]>\n",
      "{\"richMenuId\":\"richmenu-61b4d43cd84d82e150e1d2277d96253e\"}\n"
     ]
    }
   ],
   "source": [
    "'''\n",
    "\n",
    "將先前準備的菜單設定檔，以Post消息寄發給Line\n",
    "\n",
    "    設定Line的遠端位置\n",
    "    設定消息的基本安全憑證\n",
    "    寄發消息，並取得回應之Id\n",
    "    \n",
    "\n",
    "'''\n",
    "\n",
    "import requests\n",
    "\n",
    "# 載入設定檔\n",
    "menuJson=json.loads(menuRawData)\n",
    "\n",
    "# 上傳到 Line\n",
    "createMenuEndpoint = 'https://api.line.me/v2/bot/richmenu'\n",
    "\n",
    "# 將認證碼 channel_access_token 放到封包的表頭上\n",
    "createMenuRequestHeader={'Content-Type':'application/json','Authorization':'Bearer %s' % secretFileContentJson[\"channel_access_token\"]}\n",
    "\n",
    "#print(createMenuRequestHeader)\n",
    "\n",
    "# 傳給 Line\n",
    "lineCreateMenuResponse = requests.post(createMenuEndpoint,headers=createMenuRequestHeader,data=json.dumps(menuJson))\n",
    "\n",
    "# 印出結果\n",
    "print(lineCreateMenuResponse)\n",
    "print(lineCreateMenuResponse.text)\n"
   ]
  },
  {
   "cell_type": "code",
   "execution_count": 4,
   "metadata": {},
   "outputs": [
    {
     "name": "stdout",
     "output_type": "stream",
     "text": [
      "richmenu-61b4d43cd84d82e150e1d2277d96253e\n",
      "https://api.line.me/v2/bot/richmenu/richmenu-61b4d43cd84d82e150e1d2277d96253e/content\n",
      "<Response [200]>\n",
      "{}\n"
     ]
    }
   ],
   "source": [
    "'''\n",
    "\n",
    "將先前準備的菜單照片，以Post消息寄發給Line\n",
    "    取得上面設定檔的Id\n",
    "    設定Line的遠端位置\n",
    "    設定消息的基本安全憑證\n",
    "    上傳照片，並取得回傳成果\n",
    "\n",
    "'''\n",
    "\n",
    "# 取得功能選單的 id\n",
    "uploadRichMenuId=json.loads(lineCreateMenuResponse.text).get(\"richMenuId\")\n",
    "print(uploadRichMenuId)\n",
    "#'https://api.line.me/v2/bot/richmenu/{richMenuId}/content'\n",
    "\n",
    "# 設定上傳位置\n",
    "uploadMenuEndpoint='https://api.line.me/v2/bot/richmenu/%s/content' % uploadRichMenuId\n",
    "print(uploadMenuEndpoint)\n",
    "\n",
    "# 為封包設定認證的公司章 (channel_access_token)\n",
    "uploadMenuRequestHeader={'Content-Type':'image/jpeg','Authorization':'Bearer %s' % secretFileContentJson[\"channel_access_token\"]}\n",
    "\n",
    "# 讀取圖片\n",
    "uploadImageFile=open(\"../food/menu2.jpg\",'rb')\n",
    "\n",
    "# 上傳圖片\n",
    "lineUploadMenuResponse=requests.post(uploadMenuEndpoint,headers=uploadMenuRequestHeader,data=uploadImageFile)\n",
    "\n",
    "# 觀看結果\n",
    "print(lineUploadMenuResponse)\n",
    "print(lineUploadMenuResponse.text)"
   ]
  },
  {
   "cell_type": "code",
   "execution_count": 5,
   "metadata": {},
   "outputs": [
    {
     "name": "stdout",
     "output_type": "stream",
     "text": [
      "https://api.line.me/v2/bot/user/U7173dc299af6ac3fe7697a75c2a280ad/richmenu/richmenu-61b4d43cd84d82e150e1d2277d96253e\n",
      "<Response [200]>\n",
      "{}\n"
     ]
    }
   ],
   "source": [
    "'''\n",
    "\n",
    "將選單綁定到特定用戶身上\n",
    "    取出上面得到的菜單Id及用戶id\n",
    "    設定Line的遠端位置\n",
    "    設定消息的基本安全憑證\n",
    "    發送消息告知\n",
    "\n",
    "'''\n",
    "\n",
    "# https://api.line.me/v2/bot/user/{userId}/richmenu/{richMenuId}\n",
    "\n",
    "# 取得菜單的 id\n",
    "linkRichMenuId=json.loads(lineCreateMenuResponse.text).get(\"richMenuId\")\n",
    "\n",
    "#將 user_id 和 richmenu_id 組合成一個網址\n",
    "linkMenuEndpoint='https://api.line.me/v2/bot/user/%s/richmenu/%s' % (secretFileContentJson[\"self_user_id\"], linkRichMenuId)\n",
    "print(linkMenuEndpoint)\n",
    "\n",
    "# 為封包設定安全標籤(蓋公司章)\n",
    "linkMenuRequestHeader={'Content-Type':'image/jpeg','Authorization':'Bearer %s' % secretFileContentJson[\"channel_access_token\"]}\n",
    "\n",
    "# 將需求傳給 Line\n",
    "lineLinkMenuResponse=requests.post(linkMenuEndpoint,headers=linkMenuRequestHeader)\n",
    "print(lineLinkMenuResponse)\n",
    "print(lineLinkMenuResponse.text)"
   ]
  },
  {
   "cell_type": "code",
   "execution_count": 17,
   "metadata": {},
   "outputs": [
    {
     "name": "stdout",
     "output_type": "stream",
     "text": [
      "https://api.line.me/v2/bot/user/U7173dc299af6ac3fe7697a75c2a280ad/richmenu\n",
      "<Response [404]>\n",
      "{\"message\":\"the user has no richmenu\",\"details\":[]}\n"
     ]
    }
   ],
   "source": [
    "'''\n",
    "\n",
    "檢視用戶目前所綁定的菜單\n",
    "    取出用戶id\n",
    "    設定Line的遠端位置\n",
    "    設定消息的基本安全憑證\n",
    "    發送消息告知\n",
    "\n",
    "'''\n",
    "\n",
    "#  https://api.line.me/v2/bot/user/{userId}/richmenu\n",
    "\n",
    "# 取出用戶id，設定Line的遠端位置\n",
    "userMenuEndpoint='https://api.line.me/v2/bot/user/%s/richmenu' % (secretFileContentJson[\"self_user_id\"])\n",
    "print(userMenuEndpoint)\n",
    "\n",
    "# 設定消息的基本安全憑證\n",
    "userMenuRequestHeader={'Authorization':'Bearer %s' % secretFileContentJson[\"channel_access_token\"]}\n",
    "\n",
    "# 發送消息告知\n",
    "lineUserMenuResponse=requests.get(userMenuEndpoint,headers=userMenuRequestHeader)\n",
    "print(lineUserMenuResponse)\n",
    "print(lineUserMenuResponse.text)\n"
   ]
  },
  {
   "cell_type": "code",
   "execution_count": 14,
   "metadata": {},
   "outputs": [
    {
     "name": "stdout",
     "output_type": "stream",
     "text": [
      "https://api.line.me/v2/bot/user/U7173dc299af6ac3fe7697a75c2a280ad/richmenu\n",
      "<Response [200]>\n",
      "{}\n"
     ]
    }
   ],
   "source": [
    "'''\n",
    "\n",
    "解除選單與特定用戶的綁定\n",
    "    取出用戶id\n",
    "    設定Line的遠端位置\n",
    "    設定消息的基本安全憑證\n",
    "    發送消息告知\n",
    "\n",
    "'''\n",
    "\n",
    "# 取出用戶id，設定Line的遠端位置\n",
    "userMenuEndpoint='https://api.line.me/v2/bot/user/%s/richmenu' % (secretFileContentJson[\"self_user_id\"])\n",
    "print(userMenuEndpoint)\n",
    "\n",
    "# 設定消息的基本安全憑證\n",
    "userMenuRequestHeader={'Authorization':'Bearer %s' % secretFileContentJson[\"channel_access_token\"]}\n",
    "\n",
    "# 發送消息告知\n",
    "lineUnregisterUserMenuResponse=requests.delete(userMenuEndpoint,headers=userMenuRequestHeader)\n",
    "print(lineUnregisterUserMenuResponse)\n",
    "print(lineUnregisterUserMenuResponse.text)"
   ]
  },
  {
   "cell_type": "code",
   "execution_count": 15,
   "metadata": {},
   "outputs": [
    {
     "name": "stdout",
     "output_type": "stream",
     "text": [
      "{\"richmenus\":[{\"richMenuId\":\"richmenu-4e6a0410ec47f5933bfdf78ca480fd8e\",\"name\":\"區塊鏈自定義菜單\",\"size\":{\"width\":2500,\"height\":1686},\"chatBarText\":\"查看更多資訊\",\"selected\":true,\"areas\":[{\"bounds\":{\"x\":5,\"y\":0,\"width\":824,\"height\":850},\"action\":{\"type\":\"message\",\"text\":\"[::text:]傳統交易\"}},{\"bounds\":{\"x\":0,\"y\":850,\"width\":825,\"height\":818},\"action\":{\"type\":\"message\",\"text\":\"[::text:]第三方公證人\"}},{\"bounds\":{\"x\":829,\"y\":5,\"width\":871,\"height\":849},\"action\":{\"type\":\"message\",\"text\":\"[::text:]多位公證人\"}},{\"bounds\":{\"x\":825,\"y\":854,\"width\":875,\"height\":814},\"action\":{\"type\":\"message\",\"text\":\"[::text:]多組織多位公證人\"}},{\"bounds\":{\"x\":1700,\"y\":0,\"width\":800,\"height\":858},\"action\":{\"type\":\"message\",\"text\":\"[::text:]教學訊息\"}},{\"bounds\":{\"x\":1700,\"y\":858,\"width\":800,\"height\":810},\"action\":{\"type\":\"message\",\"text\":\"[::text:]more\"}}]}]}\n"
     ]
    }
   ],
   "source": [
    "'''\n",
    "\n",
    "檢視帳號內，有哪些選單\n",
    "    設定Line的遠端位置\n",
    "    設定消息的基本安全憑證\n",
    "    發送消息告知\n",
    "\n",
    "'''\n",
    "\n",
    "# 設定Line的遠端位置\n",
    "listMenuEndpoint=\"https://api.line.me/v2/bot/richmenu/list\"\n",
    "\n",
    "# 設定消息的基本安全憑證\n",
    "listMenuHeader={'Authorization':'Bearer %s' % secretFileContentJson[\"channel_access_token\"]}    \n",
    "\n",
    "# 發送消息告知\n",
    "lineLisrMenuResponse = requests.get(listMenuEndpoint,headers=listMenuHeader)\n",
    "print(lineLisrMenuResponse.text)"
   ]
  },
  {
   "cell_type": "code",
   "execution_count": null,
   "metadata": {},
   "outputs": [],
   "source": []
  }
 ],
 "metadata": {
  "kernelspec": {
   "display_name": "Python 3",
   "language": "python",
   "name": "python3"
  },
  "language_info": {
   "codemirror_mode": {
    "name": "ipython",
    "version": 3
   },
   "file_extension": ".py",
   "mimetype": "text/x-python",
   "name": "python",
   "nbconvert_exporter": "python",
   "pygments_lexer": "ipython3",
   "version": "3.7.1"
  }
 },
 "nbformat": 4,
 "nbformat_minor": 2
}
